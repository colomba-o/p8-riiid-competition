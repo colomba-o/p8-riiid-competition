{
 "cells": [
  {
   "cell_type": "markdown",
   "metadata": {
    "papermill": {
     "duration": 0.032537,
     "end_time": "2020-11-28T16:55:02.665026",
     "exception": false,
     "start_time": "2020-11-28T16:55:02.632489",
     "status": "completed"
    },
    "tags": []
   },
   "source": [
    "# **Riiid! Answer Correctness Prediction**\n",
    "\n",
    "We are going to predict if the user will predict the correct answer ... or not.\n",
    "\n",
    "For that, we will use LGBMClassifier model."
   ]
  },
  {
   "cell_type": "markdown",
   "metadata": {
    "papermill": {
     "duration": 0.036388,
     "end_time": "2020-11-28T16:55:02.738863",
     "exception": false,
     "start_time": "2020-11-28T16:55:02.702475",
     "status": "completed"
    },
    "tags": []
   },
   "source": [
    "## IMPORTS"
   ]
  },
  {
   "cell_type": "code",
   "execution_count": 1,
   "metadata": {
    "execution": {
     "iopub.execute_input": "2020-11-28T16:55:02.812892Z",
     "iopub.status.busy": "2020-11-28T16:55:02.812255Z",
     "iopub.status.idle": "2020-11-28T16:55:14.092668Z",
     "shell.execute_reply": "2020-11-28T16:55:14.092081Z"
    },
    "papermill": {
     "duration": 11.323298,
     "end_time": "2020-11-28T16:55:14.092786",
     "exception": false,
     "start_time": "2020-11-28T16:55:02.769488",
     "status": "completed"
    },
    "tags": []
   },
   "outputs": [
    {
     "name": "stderr",
     "output_type": "stream",
     "text": [
      "/opt/conda/lib/python3.7/site-packages/sklearn/utils/deprecation.py:143: FutureWarning: The sklearn.metrics.scorer module is  deprecated in version 0.22 and will be removed in version 0.24. The corresponding classes / functions should instead be imported from sklearn.metrics. Anything that cannot be imported from sklearn.metrics is now part of the private API.\n",
      "  warnings.warn(message, FutureWarning)\n",
      "/opt/conda/lib/python3.7/site-packages/sklearn/utils/deprecation.py:143: FutureWarning: The sklearn.feature_selection.base module is  deprecated in version 0.22 and will be removed in version 0.24. The corresponding classes / functions should instead be imported from sklearn.feature_selection. Anything that cannot be imported from sklearn.feature_selection is now part of the private API.\n",
      "  warnings.warn(message, FutureWarning)\n"
     ]
    }
   ],
   "source": [
    "import eli5\n",
    "import gc\n",
    "import lightgbm as lgb\n",
    "import matplotlib.pyplot as plt\n",
    "import nltk\n",
    "import numpy as np\n",
    "import os\n",
    "import pandas as pd\n",
    "import riiideducation\n",
    "import seaborn as sns\n",
    "import time\n",
    "\n",
    "\n",
    "from collections import defaultdict\n",
    "from eli5.sklearn import PermutationImportance\n",
    "from hyperopt import hp\n",
    "from hyperopt import fmin, tpe, STATUS_OK, Trials\n",
    "from hyperopt.pyll import scope\n",
    "from lightgbm import LGBMClassifier\n",
    "from sklearn import pipeline\n",
    "from sklearn.metrics import roc_auc_score\n",
    "from sklearn.model_selection import KFold, cross_val_score\n",
    "from sklearn.model_selection import cross_val_score\n",
    "from sklearn.model_selection import train_test_split\n",
    "from sklearn.preprocessing import MultiLabelBinarizer\n",
    "from sklearn.preprocessing import StandardScaler\n",
    "from sklearn.preprocessing import MinMaxScaler\n",
    "from tqdm.notebook import tqdm"
   ]
  },
  {
   "cell_type": "markdown",
   "metadata": {
    "papermill": {
     "duration": 0.030331,
     "end_time": "2020-11-28T16:55:14.156309",
     "exception": false,
     "start_time": "2020-11-28T16:55:14.125978",
     "status": "completed"
    },
    "tags": []
   },
   "source": [
    "## GLOBAL PARAMETERS"
   ]
  },
  {
   "cell_type": "code",
   "execution_count": 2,
   "metadata": {
    "execution": {
     "iopub.execute_input": "2020-11-28T16:55:14.230806Z",
     "iopub.status.busy": "2020-11-28T16:55:14.230105Z",
     "iopub.status.idle": "2020-11-28T16:55:14.233421Z",
     "shell.execute_reply": "2020-11-28T16:55:14.232743Z"
    },
    "papermill": {
     "duration": 0.046058,
     "end_time": "2020-11-28T16:55:14.233540",
     "exception": false,
     "start_time": "2020-11-28T16:55:14.187482",
     "status": "completed"
    },
    "tags": []
   },
   "outputs": [],
   "source": [
    "IS_TIMESTAMPS_IN_MONTH = False\n",
    "IS_TIMESTAMPS_IN_DAY = False\n",
    "IS_TIMESTAMPS_IN_HOUR = True\n",
    "\n",
    "IS_PRIOR_TIME_IN_HOUR = True\n",
    "\n",
    "IS_FIRST_QUESTION = True\n",
    "\n",
    "IS_TEST = False\n",
    "\n",
    "IS_EVAL = False\n",
    "\n",
    "NBMILLISEC_IN_HOUR = 1000 * 60 * 60\n",
    "nbmillisec_in_hour = 1000 * 60 * 60"
   ]
  },
  {
   "cell_type": "markdown",
   "metadata": {
    "papermill": {
     "duration": 0.036062,
     "end_time": "2020-11-28T16:55:14.300426",
     "exception": false,
     "start_time": "2020-11-28T16:55:14.264364",
     "status": "completed"
    },
    "tags": []
   },
   "source": [
    "## FUNCTIONS"
   ]
  },
  {
   "cell_type": "code",
   "execution_count": 3,
   "metadata": {
    "execution": {
     "iopub.execute_input": "2020-11-28T16:55:14.385506Z",
     "iopub.status.busy": "2020-11-28T16:55:14.379855Z",
     "iopub.status.idle": "2020-11-28T16:55:14.395753Z",
     "shell.execute_reply": "2020-11-28T16:55:14.395099Z"
    },
    "papermill": {
     "duration": 0.061419,
     "end_time": "2020-11-28T16:55:14.395912",
     "exception": false,
     "start_time": "2020-11-28T16:55:14.334493",
     "status": "completed"
    },
    "tags": []
   },
   "outputs": [],
   "source": [
    "def tags_column_processing(tags):\n",
    "    '''Function which replace existing tags list by \n",
    "    a new list tags by keeping only tags in list SELECTED_TAGS '''\n",
    "    new_tags = []\n",
    "    tags_words = tags.split()\n",
    "    for tag in tags_words:\n",
    "        if (tag in SELECTED_TAGS) :\n",
    "            new_tags.append(tag)   \n",
    "    return new_tags\n",
    "\n",
    "\n",
    "def preprocessing_data(data_df):\n",
    "    '''Function which preprocess data (test and train)'''\n",
    "    data_df = data_df[data_df['content_type_id'] == 0]\n",
    "    data_df = data_df.drop(['content_type_id'], axis=1)\n",
    "    data_df['prior_had_explanation_le'] = 0\n",
    "    data_df.loc[data_df[\"prior_question_had_explanation\"]== True,\n",
    "                \"prior_had_explanation_le\"] = 1\n",
    "    data_df = data_df.drop(['prior_question_had_explanation'], axis=1)\n",
    "    \n",
    "    if(IS_FIRST_QUESTION):\n",
    "        data_df['is_first_question'] = 0\n",
    "        data_df.loc[(data_df['prior_question_elapsed_time'].isna()) | (data_df['timestamp'] == 0),\\\n",
    "                    'is_first_question'] = 1\n",
    "        data_df = data_df.astype({\"is_first_question\":'int8'}) \n",
    "    \n",
    "    if(IS_TIMESTAMPS_IN_MONTH):\n",
    "        data_df['timestamp_in_month'] = data_df['timestamp'] / (nbmillisec_in_hour * 24 * 365 / 12)\n",
    "        data_df = data_df.astype({\"timestamp_in_month\":'float32'}) \n",
    "        \n",
    "    if(IS_TIMESTAMPS_IN_DAY):\n",
    "        data_df['timestamp_in_day'] = data_df['timestamp'] / (nbmillisec_in_hour * 24)\n",
    "        data_df = data_df.astype({\"timestamp_in_day\":'float32'})\n",
    "    \n",
    "    if(IS_TIMESTAMPS_IN_HOUR):\n",
    "        data_df['timestamp_in_hour'] = data_df['timestamp'] / (nbmillisec_in_hour)\n",
    "        data_df = data_df.astype({\"timestamp_in_hour\":'float32'}) \n",
    "        \n",
    "    prior_question_elapsed_time_mean = data_df[~data_df['prior_question_elapsed_time'].\\\n",
    "                                               isna()]['prior_question_elapsed_time'].mean()\n",
    "    data_df['prior_question_elapsed_time'].fillna(prior_question_elapsed_time_mean, inplace=True)\n",
    "    if(IS_PRIOR_TIME_IN_HOUR):\n",
    "        data_df['prior_time_in_hours'] = data_df['prior_question_elapsed_time'] / nbmillisec_in_hour\n",
    "        data_df = data_df.astype({\"prior_time_in_hours\":'float32'}) \n",
    "    return data_df"
   ]
  },
  {
   "cell_type": "markdown",
   "metadata": {
    "papermill": {
     "duration": 0.030087,
     "end_time": "2020-11-28T16:55:14.457192",
     "exception": false,
     "start_time": "2020-11-28T16:55:14.427105",
     "status": "completed"
    },
    "tags": []
   },
   "source": [
    "## Data loading\n",
    "\n",
    "We will follow this tutorials : [Competition API Detailed Introduction](https://www.kaggle.com/sohier/competition-api-detailed-introduction) and \n",
    "[Tutorial on reading large datasets](http://https://www.kaggle.com/rohanrao/tutorial-on-reading-large-datasets/)."
   ]
  },
  {
   "cell_type": "code",
   "execution_count": 4,
   "metadata": {
    "execution": {
     "iopub.execute_input": "2020-11-28T16:55:14.526702Z",
     "iopub.status.busy": "2020-11-28T16:55:14.525828Z",
     "iopub.status.idle": "2020-11-28T16:55:14.563115Z",
     "shell.execute_reply": "2020-11-28T16:55:14.562443Z"
    },
    "papermill": {
     "duration": 0.075459,
     "end_time": "2020-11-28T16:55:14.563224",
     "exception": false,
     "start_time": "2020-11-28T16:55:14.487765",
     "status": "completed"
    },
    "tags": []
   },
   "outputs": [
    {
     "name": "stdout",
     "output_type": "stream",
     "text": [
      "CPU times: user 22.7 ms, sys: 4.35 ms, total: 27 ms\n",
      "Wall time: 32.9 ms\n"
     ]
    }
   ],
   "source": [
    "%%time\n",
    "\n",
    "questions_df = pd.read_csv('/kaggle/input/riiid-test-answer-prediction/questions.csv')\n",
    "example_test = pd.read_csv('/kaggle/input/riiid-test-answer-prediction/example_test.csv')\n",
    "example_sample_submission = pd.read_csv('/kaggle/input/riiid-test-answer-prediction/example_sample_submission.csv')"
   ]
  },
  {
   "cell_type": "code",
   "execution_count": 5,
   "metadata": {
    "execution": {
     "iopub.execute_input": "2020-11-28T16:55:14.634980Z",
     "iopub.status.busy": "2020-11-28T16:55:14.634279Z",
     "iopub.status.idle": "2020-11-28T16:55:17.257896Z",
     "shell.execute_reply": "2020-11-28T16:55:17.256968Z"
    },
    "papermill": {
     "duration": 2.663354,
     "end_time": "2020-11-28T16:55:17.258118",
     "exception": false,
     "start_time": "2020-11-28T16:55:14.594764",
     "status": "completed"
    },
    "tags": []
   },
   "outputs": [
    {
     "name": "stdout",
     "output_type": "stream",
     "text": [
      "Train size: (1000000, 10)\n",
      "CPU times: user 2.18 s, sys: 339 ms, total: 2.52 s\n",
      "Wall time: 2.62 s\n"
     ]
    }
   ],
   "source": [
    "%%time\n",
    "\n",
    "dtypes = {\n",
    "    \"row_id\": \"int64\",\n",
    "    \"timestamp\": \"int64\",\n",
    "    \"user_id\": \"int32\",\n",
    "    \"content_id\": \"int16\",\n",
    "    \"content_type_id\": \"int8\",\n",
    "    \"task_container_id\": \"int16\",\n",
    "    \"user_answer\": \"int8\",\n",
    "    \"answered_correctly\": \"int8\",\n",
    "    \"prior_question_elapsed_time\": \"float32\", \n",
    "    \"prior_question_had_explanation\": \"boolean\"\n",
    "}\n",
    "\n",
    "train_df = pd.read_csv('/kaggle/input/riiid-test-answer-prediction/train.csv', \n",
    "                       low_memory=False, \n",
    "                       nrows=10**6, \n",
    "                       dtype=dtypes\n",
    "                      )\n",
    "print(\"Train size:\", train_df.shape)"
   ]
  },
  {
   "cell_type": "code",
   "execution_count": 6,
   "metadata": {
    "execution": {
     "iopub.execute_input": "2020-11-28T16:55:17.344080Z",
     "iopub.status.busy": "2020-11-28T16:55:17.342992Z",
     "iopub.status.idle": "2020-11-28T16:55:17.803532Z",
     "shell.execute_reply": "2020-11-28T16:55:17.804372Z"
    },
    "papermill": {
     "duration": 0.506611,
     "end_time": "2020-11-28T16:55:17.804578",
     "exception": false,
     "start_time": "2020-11-28T16:55:17.297967",
     "status": "completed"
    },
    "tags": []
   },
   "outputs": [],
   "source": [
    "train_df = preprocessing_data(train_df)"
   ]
  },
  {
   "cell_type": "code",
   "execution_count": 7,
   "metadata": {
    "execution": {
     "iopub.execute_input": "2020-11-28T16:55:17.889224Z",
     "iopub.status.busy": "2020-11-28T16:55:17.888491Z",
     "iopub.status.idle": "2020-11-28T16:55:17.895397Z",
     "shell.execute_reply": "2020-11-28T16:55:17.894844Z"
    },
    "papermill": {
     "duration": 0.050175,
     "end_time": "2020-11-28T16:55:17.895502",
     "exception": false,
     "start_time": "2020-11-28T16:55:17.845327",
     "status": "completed"
    },
    "tags": []
   },
   "outputs": [
    {
     "data": {
      "text/plain": [
       "Index                          7840744\n",
       "row_id                         7840744\n",
       "timestamp                      7840744\n",
       "user_id                        3920372\n",
       "content_id                     1960186\n",
       "task_container_id              1960186\n",
       "user_answer                     980093\n",
       "answered_correctly              980093\n",
       "prior_question_elapsed_time    3920372\n",
       "prior_had_explanation_le       7840744\n",
       "is_first_question               980093\n",
       "timestamp_in_hour              3920372\n",
       "prior_time_in_hours            3920372\n",
       "dtype: int64"
      ]
     },
     "execution_count": 7,
     "metadata": {},
     "output_type": "execute_result"
    }
   ],
   "source": [
    "train_df.memory_usage(deep=True)"
   ]
  },
  {
   "cell_type": "markdown",
   "metadata": {
    "papermill": {
     "duration": 0.0332,
     "end_time": "2020-11-28T16:55:17.961710",
     "exception": false,
     "start_time": "2020-11-28T16:55:17.928510",
     "status": "completed"
    },
    "tags": []
   },
   "source": [
    "## We keep 2 years (cf EDA)"
   ]
  },
  {
   "cell_type": "code",
   "execution_count": 8,
   "metadata": {
    "execution": {
     "iopub.execute_input": "2020-11-28T16:55:18.034590Z",
     "iopub.status.busy": "2020-11-28T16:55:18.033517Z",
     "iopub.status.idle": "2020-11-28T16:55:18.078438Z",
     "shell.execute_reply": "2020-11-28T16:55:18.075721Z"
    },
    "papermill": {
     "duration": 0.084025,
     "end_time": "2020-11-28T16:55:18.078909",
     "exception": false,
     "start_time": "2020-11-28T16:55:17.994884",
     "status": "completed"
    },
    "tags": []
   },
   "outputs": [],
   "source": [
    "train_df = train_df[train_df['timestamp'] <= (2 * 365 * 24 * 60 *60 *1000)]"
   ]
  },
  {
   "cell_type": "markdown",
   "metadata": {
    "papermill": {
     "duration": 0.033017,
     "end_time": "2020-11-28T16:55:18.150384",
     "exception": false,
     "start_time": "2020-11-28T16:55:18.117367",
     "status": "completed"
    },
    "tags": []
   },
   "source": [
    "## questions.csv"
   ]
  },
  {
   "cell_type": "code",
   "execution_count": 9,
   "metadata": {
    "execution": {
     "iopub.execute_input": "2020-11-28T16:55:18.231182Z",
     "iopub.status.busy": "2020-11-28T16:55:18.225081Z",
     "iopub.status.idle": "2020-11-28T16:55:18.249851Z",
     "shell.execute_reply": "2020-11-28T16:55:18.248777Z"
    },
    "papermill": {
     "duration": 0.066371,
     "end_time": "2020-11-28T16:55:18.250015",
     "exception": false,
     "start_time": "2020-11-28T16:55:18.183644",
     "status": "completed"
    },
    "tags": []
   },
   "outputs": [],
   "source": [
    "questions_df['tags'].fillna(\"\", inplace=True)\n",
    "questions_df[\"nb_tags\"] = questions_df[\"tags\"].apply(lambda text: len(text.split()))\n",
    "questions_df = questions_df[questions_df[\"nb_tags\"] > 0]"
   ]
  },
  {
   "cell_type": "code",
   "execution_count": 10,
   "metadata": {
    "execution": {
     "iopub.execute_input": "2020-11-28T16:55:18.396517Z",
     "iopub.status.busy": "2020-11-28T16:55:18.395624Z",
     "iopub.status.idle": "2020-11-28T16:55:18.415005Z",
     "shell.execute_reply": "2020-11-28T16:55:18.414316Z"
    },
    "papermill": {
     "duration": 0.101772,
     "end_time": "2020-11-28T16:55:18.415164",
     "exception": false,
     "start_time": "2020-11-28T16:55:18.313392",
     "status": "completed"
    },
    "tags": []
   },
   "outputs": [],
   "source": [
    "questions_df['tags_list'] = questions_df['tags'].apply(lambda x: x.split())\n",
    "tags_list = [item for sublist in questions_df['tags_list'].values for item in sublist]\n",
    "\n",
    "tags_unique_list = list(set(tags_list))\n",
    "if(IS_TEST):\n",
    "    print(len(tags_list))\n",
    "    print(len(tags_unique_list))"
   ]
  },
  {
   "cell_type": "code",
   "execution_count": 11,
   "metadata": {
    "execution": {
     "iopub.execute_input": "2020-11-28T16:55:18.515532Z",
     "iopub.status.busy": "2020-11-28T16:55:18.509917Z",
     "iopub.status.idle": "2020-11-28T16:55:18.604787Z",
     "shell.execute_reply": "2020-11-28T16:55:18.604116Z"
    },
    "papermill": {
     "duration": 0.15519,
     "end_time": "2020-11-28T16:55:18.604902",
     "exception": false,
     "start_time": "2020-11-28T16:55:18.449712",
     "status": "completed"
    },
    "tags": []
   },
   "outputs": [],
   "source": [
    "tags_frequence= nltk.FreqDist(tags_list)\n",
    "NB_TAGS = 25\n",
    "words_most_common = tags_frequence.most_common(NB_TAGS)\n",
    "fq_words_df = pd.DataFrame(words_most_common, columns = ['tags' , 'nb_tags'])\n",
    "\n",
    "SELECTED_TAGS = (fq_words_df['tags'][:NB_TAGS]).to_list()\n",
    "#print(SELECTED_TAGS)\n",
    "questions_df['new_tags'] = questions_df[\"tags\"].apply(lambda text : tags_column_processing(text))\n",
    "classes_tags = tuple(SELECTED_TAGS)\n",
    "one_hot = MultiLabelBinarizer(classes = classes_tags )\n",
    "\n",
    "types_encoded = pd.DataFrame(one_hot.fit_transform(questions_df['new_tags']),columns=one_hot.classes_)\n",
    "#types_encoded.head()\n",
    "questions_df = pd.concat([questions_df,types_encoded], axis = 1)"
   ]
  },
  {
   "cell_type": "code",
   "execution_count": 12,
   "metadata": {
    "execution": {
     "iopub.execute_input": "2020-11-28T16:55:18.677911Z",
     "iopub.status.busy": "2020-11-28T16:55:18.676986Z",
     "iopub.status.idle": "2020-11-28T16:55:18.687867Z",
     "shell.execute_reply": "2020-11-28T16:55:18.687232Z"
    },
    "papermill": {
     "duration": 0.049421,
     "end_time": "2020-11-28T16:55:18.687973",
     "exception": false,
     "start_time": "2020-11-28T16:55:18.638552",
     "status": "completed"
    },
    "tags": []
   },
   "outputs": [],
   "source": [
    "# Drop column B as it is now encoded\n",
    "questions_df = questions_df.drop(['new_tags', 'tags', 'tags_list'],axis = 1)"
   ]
  },
  {
   "cell_type": "code",
   "execution_count": 13,
   "metadata": {
    "execution": {
     "iopub.execute_input": "2020-11-28T16:55:18.765093Z",
     "iopub.status.busy": "2020-11-28T16:55:18.764428Z",
     "iopub.status.idle": "2020-11-28T16:55:18.768064Z",
     "shell.execute_reply": "2020-11-28T16:55:18.768595Z"
    },
    "papermill": {
     "duration": 0.046734,
     "end_time": "2020-11-28T16:55:18.768737",
     "exception": false,
     "start_time": "2020-11-28T16:55:18.722003",
     "status": "completed"
    },
    "tags": []
   },
   "outputs": [],
   "source": [
    "questions_df = questions_df[~questions_df['part'].isna()]"
   ]
  },
  {
   "cell_type": "code",
   "execution_count": 14,
   "metadata": {
    "execution": {
     "iopub.execute_input": "2020-11-28T16:55:18.851094Z",
     "iopub.status.busy": "2020-11-28T16:55:18.847494Z",
     "iopub.status.idle": "2020-11-28T16:55:18.855596Z",
     "shell.execute_reply": "2020-11-28T16:55:18.856094Z"
    },
    "papermill": {
     "duration": 0.052837,
     "end_time": "2020-11-28T16:55:18.856259",
     "exception": false,
     "start_time": "2020-11-28T16:55:18.803422",
     "status": "completed"
    },
    "tags": []
   },
   "outputs": [],
   "source": [
    "questions_df['is_easy_part'] = 0\n",
    "questions_df['is_medium_part'] = 0\n",
    "questions_df['is_difficult_part'] = 0\n",
    "questions_df.loc[questions_df['part'] <= 3 ,'is_easy_part'] = 1\n",
    "questions_df.loc[(questions_df['part'] == 4)|(questions_df['part'] == 5) ,'is_difficult_part'] = 1\n",
    "questions_df.loc[questions_df['part'] >6 ,'is_medium_part'] = 1"
   ]
  },
  {
   "cell_type": "code",
   "execution_count": 15,
   "metadata": {
    "execution": {
     "iopub.execute_input": "2020-11-28T16:55:18.931299Z",
     "iopub.status.busy": "2020-11-28T16:55:18.930414Z",
     "iopub.status.idle": "2020-11-28T16:55:18.935713Z",
     "shell.execute_reply": "2020-11-28T16:55:18.935078Z"
    },
    "papermill": {
     "duration": 0.045761,
     "end_time": "2020-11-28T16:55:18.935819",
     "exception": false,
     "start_time": "2020-11-28T16:55:18.890058",
     "status": "completed"
    },
    "tags": []
   },
   "outputs": [],
   "source": [
    "questions_df['is_reading_section']= 0 \n",
    "questions_df.loc[questions_df['part'] >= 5 ,'is_reading_section'] = 1"
   ]
  },
  {
   "cell_type": "markdown",
   "metadata": {
    "papermill": {
     "duration": 0.033337,
     "end_time": "2020-11-28T16:55:19.002774",
     "exception": false,
     "start_time": "2020-11-28T16:55:18.969437",
     "status": "completed"
    },
    "tags": []
   },
   "source": [
    "## Merge questions and train"
   ]
  },
  {
   "cell_type": "code",
   "execution_count": 16,
   "metadata": {
    "execution": {
     "iopub.execute_input": "2020-11-28T16:55:19.077288Z",
     "iopub.status.busy": "2020-11-28T16:55:19.076296Z",
     "iopub.status.idle": "2020-11-28T16:55:19.906510Z",
     "shell.execute_reply": "2020-11-28T16:55:19.905094Z"
    },
    "papermill": {
     "duration": 0.870434,
     "end_time": "2020-11-28T16:55:19.906642",
     "exception": false,
     "start_time": "2020-11-28T16:55:19.036208",
     "status": "completed"
    },
    "tags": []
   },
   "outputs": [],
   "source": [
    "train_df = pd.merge(train_df,questions_df, how='left', left_on='content_id', right_on='question_id').sort_values('row_id')"
   ]
  },
  {
   "cell_type": "code",
   "execution_count": 17,
   "metadata": {
    "execution": {
     "iopub.execute_input": "2020-11-28T16:55:19.984418Z",
     "iopub.status.busy": "2020-11-28T16:55:19.983488Z",
     "iopub.status.idle": "2020-11-28T16:55:20.086943Z",
     "shell.execute_reply": "2020-11-28T16:55:20.086369Z"
    },
    "papermill": {
     "duration": 0.145283,
     "end_time": "2020-11-28T16:55:20.087078",
     "exception": false,
     "start_time": "2020-11-28T16:55:19.941795",
     "status": "completed"
    },
    "tags": []
   },
   "outputs": [],
   "source": [
    "user_agg = train_df.groupby('user_id')['answered_correctly'].\\\n",
    "                    agg(['sum', 'count'])\n",
    "train_df['user_count'] = train_df['user_id'].map(user_agg['count']).astype('int32')\n",
    "train_df['user_nb_mean'] = train_df['user_id'].map(user_agg['sum']/user_agg['count']).astype('int32')"
   ]
  },
  {
   "cell_type": "code",
   "execution_count": 18,
   "metadata": {
    "execution": {
     "iopub.execute_input": "2020-11-28T16:55:20.161952Z",
     "iopub.status.busy": "2020-11-28T16:55:20.161075Z",
     "iopub.status.idle": "2020-11-28T16:55:20.242683Z",
     "shell.execute_reply": "2020-11-28T16:55:20.241997Z"
    },
    "papermill": {
     "duration": 0.121802,
     "end_time": "2020-11-28T16:55:20.242791",
     "exception": false,
     "start_time": "2020-11-28T16:55:20.120989",
     "status": "completed"
    },
    "tags": []
   },
   "outputs": [],
   "source": [
    "content_agg = train_df.groupby('content_id')['answered_correctly'].\\\n",
    "                        agg(['sum', 'count']) #'mean', 'median', 'std'\n",
    "train_df['content_count'] = train_df['content_id'].map(content_agg['count']).astype('int32')\n",
    "train_df['content_nb_mean'] = train_df['content_id'].map(content_agg['sum'] / content_agg['count'])"
   ]
  },
  {
   "cell_type": "markdown",
   "metadata": {
    "papermill": {
     "duration": 0.041926,
     "end_time": "2020-11-28T16:55:20.320894",
     "exception": false,
     "start_time": "2020-11-28T16:55:20.278968",
     "status": "completed"
    },
    "tags": []
   },
   "source": [
    "Number of attempts"
   ]
  },
  {
   "cell_type": "code",
   "execution_count": 19,
   "metadata": {
    "execution": {
     "iopub.execute_input": "2020-11-28T16:55:20.401531Z",
     "iopub.status.busy": "2020-11-28T16:55:20.400882Z",
     "iopub.status.idle": "2020-11-28T16:55:21.140700Z",
     "shell.execute_reply": "2020-11-28T16:55:21.137371Z"
    },
    "papermill": {
     "duration": 0.783972,
     "end_time": "2020-11-28T16:55:21.141214",
     "exception": false,
     "start_time": "2020-11-28T16:55:20.357242",
     "status": "completed"
    },
    "tags": []
   },
   "outputs": [],
   "source": [
    "train_df['nb_attempt'] = train_df.groupby(['user_id', 'content_id']).cumcount()+1"
   ]
  },
  {
   "cell_type": "code",
   "execution_count": 20,
   "metadata": {
    "execution": {
     "iopub.execute_input": "2020-11-28T16:55:21.270164Z",
     "iopub.status.busy": "2020-11-28T16:55:21.269292Z",
     "iopub.status.idle": "2020-11-28T16:55:21.274658Z",
     "shell.execute_reply": "2020-11-28T16:55:21.274016Z"
    },
    "papermill": {
     "duration": 0.097183,
     "end_time": "2020-11-28T16:55:21.274768",
     "exception": false,
     "start_time": "2020-11-28T16:55:21.177585",
     "status": "completed"
    },
    "tags": []
   },
   "outputs": [],
   "source": [
    "if(IS_TEST):\n",
    "    train_df.head(15)"
   ]
  },
  {
   "cell_type": "code",
   "execution_count": 21,
   "metadata": {
    "execution": {
     "iopub.execute_input": "2020-11-28T16:55:21.362178Z",
     "iopub.status.busy": "2020-11-28T16:55:21.361090Z",
     "iopub.status.idle": "2020-11-28T16:55:22.979710Z",
     "shell.execute_reply": "2020-11-28T16:55:22.978974Z"
    },
    "papermill": {
     "duration": 1.669414,
     "end_time": "2020-11-28T16:55:22.979842",
     "exception": false,
     "start_time": "2020-11-28T16:55:21.310428",
     "status": "completed"
    },
    "tags": []
   },
   "outputs": [
    {
     "data": {
      "application/vnd.jupyter.widget-view+json": {
       "model_id": "026f998dff8945859698665a7402cc3e",
       "version_major": 2,
       "version_minor": 0
      },
      "text/plain": [
       "HBox(children=(FloatProgress(value=0.0, max=3824.0), HTML(value='')))"
      ]
     },
     "metadata": {},
     "output_type": "display_data"
    },
    {
     "name": "stdout",
     "output_type": "stream",
     "text": [
      "\n"
     ]
    }
   ],
   "source": [
    "def get_state_user():\n",
    "    # compute user features over all train data\n",
    "    answered_correctly_user = train_df.groupby('user_id')['answered_correctly'].sum().values\n",
    "    answered_user = train_df.groupby('user_id')['answered_correctly'].count().values  \n",
    "    mean_user_accuracy = train_df.groupby('user_id')['answered_correctly'].mean().values\n",
    "    # fill dictionary with default values\n",
    "    state_user = dict()\n",
    "    for user_id in train_df['user_id'].unique():\n",
    "        state_user[user_id] = {}\n",
    "    total = len(state_user.keys())\n",
    "\n",
    "    # add user content attempts\n",
    "    user_content = train_df.groupby('user_id')['content_id'].apply(np.array).apply(np.sort).apply(np.unique)\n",
    "    user_attempts = train_df.groupby(['user_id', 'content_id'])['content_id'].count().groupby('user_id').apply(np.array).values\n",
    "    user_attempts -= 1\n",
    "    \n",
    "    for user_id, content_id, nb_attempts in tqdm(zip(state_user.keys(), user_content, user_attempts),total=total):\n",
    "        state_user[user_id]['user_content_attempts'] = dict(zip(content_id, nb_attempts))\n",
    "        \n",
    "    del user_content, user_attempts\n",
    "    gc.collect()\n",
    "    \n",
    "    for idx, user_id in enumerate(state_user.keys()):\n",
    "        state_user[user_id]['mean_user_accuracy'] = mean_user_accuracy[idx]\n",
    "        state_user[user_id]['answered_correctly_user'] = answered_correctly_user[idx]\n",
    "        state_user[user_id]['answered_user'] = answered_user[idx]\n",
    "    return state_user\n",
    "\n",
    "state_user = get_state_user()\n",
    "\n",
    "if(IS_TEST):\n",
    "    display(state_user[2746])"
   ]
  },
  {
   "cell_type": "code",
   "execution_count": 22,
   "metadata": {
    "execution": {
     "iopub.execute_input": "2020-11-28T16:55:23.076611Z",
     "iopub.status.busy": "2020-11-28T16:55:23.075845Z",
     "iopub.status.idle": "2020-11-28T16:55:23.080827Z",
     "shell.execute_reply": "2020-11-28T16:55:23.080235Z"
    },
    "papermill": {
     "duration": 0.062638,
     "end_time": "2020-11-28T16:55:23.080937",
     "exception": false,
     "start_time": "2020-11-28T16:55:23.018299",
     "status": "completed"
    },
    "tags": []
   },
   "outputs": [],
   "source": [
    "def get_user_data(state, test_df):\n",
    "    # updated data\n",
    "    attempt, mean_user_accuracy, answered_correctly_user, answered_user = [], [], [], []\n",
    "    \n",
    "    for idx, (user_id, content_id) in test_df[['user_id', 'content_id']].iterrows():\n",
    "        # check if user exists\n",
    "        if user_id in state:\n",
    "            # check if user already answered the question, if so update it to a maximum of 4\n",
    "            if content_id in state[user_id]['user_content_attempts']:\n",
    "                state[user_id]['user_content_attempts'][content_id] = min(4, state[user_id]['user_content_attempts'][content_id] + 1)\n",
    "            # if user did not answered the question already, set the number of attempts to 0\n",
    "            else:\n",
    "                state[user_id]['user_content_attempts'][content_id] = 0\n",
    "        \n",
    "        # else create user with default values\n",
    "        else:\n",
    "            dict_keys = ['mean_user_accuracy', 'answered_correctly_user', 'answered_user', 'user_content_attempts']\n",
    "            dict_default_vals = [0.680, 0, 0, dict(zip([content_id],[0]))]\n",
    "            state[user_id] = dict(zip(dict_keys, dict_default_vals))\n",
    "            \n",
    "        # add user data to lists\n",
    "        attempt.append(state[user_id]['user_content_attempts'][content_id])\n",
    "        mean_user_accuracy.append(state[user_id]['mean_user_accuracy'])\n",
    "        answered_correctly_user.append(state[user_id]['answered_correctly_user'])\n",
    "        answered_user.append(state[user_id]['answered_user'])\n",
    "    \n",
    "    return attempt, mean_user_accuracy, answered_correctly_user, answered_user\n",
    "\n",
    "# updates the user data\n",
    "def update_user_data(state, features_questions_df, prev_test_df):\n",
    "    for user_id, content_id, answered_correctly in prev_test_df[['user_id', 'content_id', 'answered_correctly']].values:\n",
    "        # update user features\n",
    "        state[user_id]['answered_correctly_user'] += answered_correctly\n",
    "        state[user_id]['answered_user'] += 1\n",
    "        state[user_id]['mean_user_accuracy'] = state[user_id]['answered_correctly_user'] / state[user_id]['answered_user']"
   ]
  },
  {
   "cell_type": "markdown",
   "metadata": {
    "papermill": {
     "duration": 0.035373,
     "end_time": "2020-11-28T16:55:23.151614",
     "exception": false,
     "start_time": "2020-11-28T16:55:23.116241",
     "status": "completed"
    },
    "tags": []
   },
   "source": [
    "# Baseline"
   ]
  },
  {
   "cell_type": "code",
   "execution_count": 23,
   "metadata": {
    "execution": {
     "iopub.execute_input": "2020-11-28T16:55:23.227306Z",
     "iopub.status.busy": "2020-11-28T16:55:23.226656Z",
     "iopub.status.idle": "2020-11-28T16:55:23.230140Z",
     "shell.execute_reply": "2020-11-28T16:55:23.229519Z"
    },
    "papermill": {
     "duration": 0.043394,
     "end_time": "2020-11-28T16:55:23.230234",
     "exception": false,
     "start_time": "2020-11-28T16:55:23.186840",
     "status": "completed"
    },
    "tags": []
   },
   "outputs": [],
   "source": [
    "#sc = MinMaxScaler()\n",
    "sc = StandardScaler()"
   ]
  },
  {
   "cell_type": "code",
   "execution_count": 24,
   "metadata": {
    "execution": {
     "iopub.execute_input": "2020-11-28T16:55:23.307430Z",
     "iopub.status.busy": "2020-11-28T16:55:23.306543Z",
     "iopub.status.idle": "2020-11-28T16:55:23.311674Z",
     "shell.execute_reply": "2020-11-28T16:55:23.311087Z"
    },
    "papermill": {
     "duration": 0.046596,
     "end_time": "2020-11-28T16:55:23.311776",
     "exception": false,
     "start_time": "2020-11-28T16:55:23.265180",
     "status": "completed"
    },
    "tags": []
   },
   "outputs": [
    {
     "data": {
      "text/plain": [
       "Index(['row_id', 'timestamp', 'user_id', 'content_id', 'task_container_id',\n",
       "       'user_answer', 'answered_correctly', 'prior_question_elapsed_time',\n",
       "       'prior_had_explanation_le', 'is_first_question', 'timestamp_in_hour',\n",
       "       'prior_time_in_hours', 'question_id', 'bundle_id', 'correct_answer',\n",
       "       'part', 'nb_tags', '92', '38', '81', '29', '136', '162', '102', '8',\n",
       "       '143', '131', '73', '21', '53', '82', '74', '106', '1', '96', '12',\n",
       "       '97', '67', '55', '27', '122', '79', 'is_easy_part', 'is_medium_part',\n",
       "       'is_difficult_part', 'is_reading_section', 'user_count', 'user_nb_mean',\n",
       "       'content_count', 'content_nb_mean', 'nb_attempt'],\n",
       "      dtype='object')"
      ]
     },
     "execution_count": 24,
     "metadata": {},
     "output_type": "execute_result"
    }
   ],
   "source": [
    "train_df.columns"
   ]
  },
  {
   "cell_type": "code",
   "execution_count": 25,
   "metadata": {
    "execution": {
     "iopub.execute_input": "2020-11-28T16:55:23.398998Z",
     "iopub.status.busy": "2020-11-28T16:55:23.398419Z",
     "iopub.status.idle": "2020-11-28T16:55:24.569814Z",
     "shell.execute_reply": "2020-11-28T16:55:24.570398Z"
    },
    "papermill": {
     "duration": 1.222579,
     "end_time": "2020-11-28T16:55:24.570537",
     "exception": false,
     "start_time": "2020-11-28T16:55:23.347958",
     "status": "completed"
    },
    "tags": []
   },
   "outputs": [],
   "source": [
    "train_df = train_df[train_df['answered_correctly']!= -1]\n",
    "features_bsl = ['prior_had_explanation_le', 'nb_attempt',\n",
    "                'content_id', 'content_count', 'content_nb_mean',\n",
    "                'user_nb_mean', 'user_count',\n",
    "                'is_reading_section', 'user_id',\n",
    "                'nb_tags',\n",
    "                '92', '38', '81', '29', '136',\n",
    "                '162', '102', '8', '143', '131'\n",
    "                ]\n",
    "\n",
    "if(IS_TIMESTAMPS_IN_MONTH):\n",
    "    features_bsl.append('timestamp_in_month')\n",
    "if(IS_TIMESTAMPS_IN_DAY):\n",
    "    features_bsl.append('timestamp_in_day')\n",
    "if(IS_TIMESTAMPS_IN_HOUR):\n",
    "    features_bsl.append('timestamp_in_hour')\n",
    "if(IS_PRIOR_TIME_IN_HOUR):\n",
    "    features_bsl.append('prior_time_in_hours')\n",
    "if(IS_FIRST_QUESTION):\n",
    "    features_bsl.append('is_first_question')\n",
    "\n",
    "X = train_df[features_bsl]\n",
    "X = sc.fit_transform(X)\n",
    "y = train_df['answered_correctly']\n",
    "\n",
    "X_train, X_test, y_train, y_test = train_test_split(X, y, test_size=0.20, shuffle=True, random_state=1)"
   ]
  },
  {
   "cell_type": "code",
   "execution_count": 26,
   "metadata": {
    "execution": {
     "iopub.execute_input": "2020-11-28T16:55:24.651478Z",
     "iopub.status.busy": "2020-11-28T16:55:24.650386Z",
     "iopub.status.idle": "2020-11-28T16:55:24.655987Z",
     "shell.execute_reply": "2020-11-28T16:55:24.655327Z"
    },
    "papermill": {
     "duration": 0.049216,
     "end_time": "2020-11-28T16:55:24.656122",
     "exception": false,
     "start_time": "2020-11-28T16:55:24.606906",
     "status": "completed"
    },
    "tags": []
   },
   "outputs": [
    {
     "data": {
      "text/plain": [
       "['prior_had_explanation_le',\n",
       " 'nb_attempt',\n",
       " 'content_id',\n",
       " 'content_count',\n",
       " 'content_nb_mean',\n",
       " 'user_nb_mean',\n",
       " 'user_count',\n",
       " 'is_reading_section',\n",
       " 'user_id',\n",
       " 'nb_tags',\n",
       " '92',\n",
       " '38',\n",
       " '81',\n",
       " '29',\n",
       " '136',\n",
       " '162',\n",
       " '102',\n",
       " '8',\n",
       " '143',\n",
       " '131',\n",
       " 'timestamp_in_hour',\n",
       " 'prior_time_in_hours',\n",
       " 'is_first_question']"
      ]
     },
     "execution_count": 26,
     "metadata": {},
     "output_type": "execute_result"
    }
   ],
   "source": [
    "features_bsl"
   ]
  },
  {
   "cell_type": "markdown",
   "metadata": {
    "papermill": {
     "duration": 0.035704,
     "end_time": "2020-11-28T16:55:24.728767",
     "exception": false,
     "start_time": "2020-11-28T16:55:24.693063",
     "status": "completed"
    },
    "tags": []
   },
   "source": [
    "## Optimisation of the model (Hyperparameter tuning and crossvalidation)"
   ]
  },
  {
   "cell_type": "markdown",
   "metadata": {
    "papermill": {
     "duration": 0.036378,
     "end_time": "2020-11-28T16:55:24.801908",
     "exception": false,
     "start_time": "2020-11-28T16:55:24.765530",
     "status": "completed"
    },
    "tags": []
   },
   "source": [
    "### To optimize my model, I use : Bayesian Optimization (hyperopt) and stratification."
   ]
  },
  {
   "cell_type": "code",
   "execution_count": 27,
   "metadata": {
    "execution": {
     "iopub.execute_input": "2020-11-28T16:55:24.888726Z",
     "iopub.status.busy": "2020-11-28T16:55:24.883676Z",
     "iopub.status.idle": "2020-11-28T16:55:24.910464Z",
     "shell.execute_reply": "2020-11-28T16:55:24.909781Z"
    },
    "papermill": {
     "duration": 0.072118,
     "end_time": "2020-11-28T16:55:24.910576",
     "exception": false,
     "start_time": "2020-11-28T16:55:24.838458",
     "status": "completed"
    },
    "tags": []
   },
   "outputs": [],
   "source": [
    "param_hyperopt= {\n",
    "    'learning_rate': hp.loguniform('learning_rate', np.log(0.01), np.log(1)),\n",
    "    'max_depth': scope.int(hp.quniform('max_depth', 5, 15, 1)),\n",
    "    'feature_fraction': hp.uniform('feature_fraction', 0.6, 0.9),\n",
    "    'n_estimators': scope.int(hp.quniform('n_estimators', 25, 300, 25)),\n",
    "    'num_leaves': scope.int(hp.quniform('num_leaves', 5, 50, 1)),\n",
    "    'reg_lambda': hp.uniform('reg_lambda', 0.0, 0.2),\n",
    "}\n",
    "\n",
    "\n",
    "def hyperopt(param_space, X_train, y_train, X_test, y_test, num_eval):\n",
    "    num_folds=3\n",
    "\n",
    "    def objective_function(params):\n",
    "        clf = lgb.LGBMClassifier(random_state =1, **params)\n",
    "        kf = KFold(n_splits=num_folds, shuffle=True)\n",
    "        score = cross_val_score(clf, X_train, y_train, cv=kf, scoring='roc_auc', n_jobs=1).mean()\n",
    "        return {'loss': 1-score, 'status': STATUS_OK}\n",
    "    \n",
    "    trials = Trials()\n",
    "    \n",
    "    best_param = fmin(objective_function, \n",
    "                      param_space, \n",
    "                      algo=tpe.suggest, \n",
    "                      max_evals=num_eval, \n",
    "                      trials=trials,\n",
    "                      rstate= np.random.RandomState(1))\n",
    "    loss = [x['result']['loss'] for x in trials.trials]\n",
    "    \n",
    "    best_param_values = [x for x in best_param.values()]\n",
    "    \n",
    "    if best_param_values[0] == 0:\n",
    "        boosting_type = 'gbdt'\n",
    "    else:\n",
    "        boosting_type= 'dart'\n",
    "   \n",
    "    clf_best = lgb.LGBMClassifier(random_state = 1,\n",
    "                                  feature_fraction=best_param_values[0],\n",
    "                                  learning_rate=best_param_values[1],\n",
    "                                  max_depth=int(best_param_values[2]),\n",
    "                                  n_estimators=int(best_param_values[3]),\n",
    "                                  num_leaves=int(best_param_values[4]),\n",
    "                                  reg_lambda=best_param_values[5]\n",
    "                                 )\n",
    "    \n",
    "    clf_best.fit(X_train, y_train)\n",
    "    \n",
    "    print(\"\")\n",
    "    print(\"##### Results\")\n",
    "    print(\"Score best parameters: \", min(loss)*-1)\n",
    "    print(\"Best parameters: \", best_param)\n",
    "    print(\"Test Score: \", clf_best.score(X_test, y_test))\n",
    "    print(\"AUROC : \",roc_auc_score(y_test, clf_best.predict_proba(X_test)[:,1]) )\n",
    "    print(\"Parameter combinations evaluated: \", num_eval)\n",
    "    return trials\n",
    "\n",
    "IS_EVAL = False\n",
    "if(IS_EVAL):\n",
    "    num_eval = 75\n",
    "    results_hyperopt = hyperopt(param_hyperopt, X_train, y_train, X_test, y_test, num_eval)\n"
   ]
  },
  {
   "cell_type": "markdown",
   "metadata": {
    "papermill": {
     "duration": 0.037329,
     "end_time": "2020-11-28T16:55:24.985297",
     "exception": false,
     "start_time": "2020-11-28T16:55:24.947968",
     "status": "completed"
    },
    "tags": []
   },
   "source": [
    "75/75 [29:45<00:00, 23.81s/trial, best loss: 0.24545802722089016]\n",
    "\n",
    "##### Results\n",
    "Score best parameters:  -0.24545802722089016\n",
    "Best parameters:  {'feature_fraction': 0.7847766875579623, 'learning_rate': 0.20475753529956947, 'max_depth': 8.0, 'n_estimators': 300.0, 'num_leaves': 25.0, 'reg_lambda': 0.08560393035568381}\n",
    "Test Score:  0.7178898261301032\n",
    "AUROC :  0.7537312406572992\n",
    "Parameter combinations evaluated:  75"
   ]
  },
  {
   "cell_type": "code",
   "execution_count": 28,
   "metadata": {
    "execution": {
     "iopub.execute_input": "2020-11-28T16:55:25.067993Z",
     "iopub.status.busy": "2020-11-28T16:55:25.067391Z",
     "iopub.status.idle": "2020-11-28T16:55:25.071405Z",
     "shell.execute_reply": "2020-11-28T16:55:25.070881Z"
    },
    "papermill": {
     "duration": 0.049239,
     "end_time": "2020-11-28T16:55:25.071511",
     "exception": false,
     "start_time": "2020-11-28T16:55:25.022272",
     "status": "completed"
    },
    "tags": []
   },
   "outputs": [],
   "source": [
    "'''params = {\n",
    "    #'bagging_fraction': 0.5817242323514327,\n",
    "    'feature_fraction': 0.6884588361650144,\n",
    "    #'learning_rate': 0.42887924851375825, \n",
    "    'learning_rate': 0.4, \n",
    "    'max_depth': 7,\n",
    "    'min_child_samples': 100, \n",
    "    'min_child_weight': 0.01,\n",
    "    'min_data_in_leaf': 20, \n",
    "    'n_estimators': 200,\n",
    "    'n_job': 4,\n",
    "    'num_leaves': 42,\n",
    "    'random_state': 1,\n",
    "    'reg_alpha': 5, \n",
    "    'reg_lambda': 0,\n",
    "    'subsample': 0.863184719640143\n",
    "}'''\n",
    "\n",
    "params = {\n",
    "    'bagging_fraction': 0.6,\n",
    "    'feature_fraction': 0.7847766875579623, \n",
    "    'learning_rate': 0.45, #0.20475753529956947, \n",
    "    'max_depth': 8, \n",
    "    'n_estimators': 300,\n",
    "    'num_leaves': 25,\n",
    "    'reg_lambda': 0,\n",
    "    'reg_alpha': 5,\n",
    "    'random_state': 1,\n",
    "    'n_job': 4,\n",
    "    'min_child_samples': 100, \n",
    "    'min_child_weight': 0.01,\n",
    "    'min_data_in_leaf': 15,\n",
    "    'subsample': 0.75\n",
    "}\n",
    "\n",
    "lgbm = LGBMClassifier(**params)"
   ]
  },
  {
   "cell_type": "code",
   "execution_count": 29,
   "metadata": {
    "execution": {
     "iopub.execute_input": "2020-11-28T16:55:25.186293Z",
     "iopub.status.busy": "2020-11-28T16:55:25.181740Z",
     "iopub.status.idle": "2020-11-28T16:55:45.507466Z",
     "shell.execute_reply": "2020-11-28T16:55:45.508480Z"
    },
    "papermill": {
     "duration": 20.399839,
     "end_time": "2020-11-28T16:55:45.508634",
     "exception": false,
     "start_time": "2020-11-28T16:55:25.108795",
     "status": "completed"
    },
    "tags": []
   },
   "outputs": [
    {
     "data": {
      "text/plain": [
       "LGBMClassifier(bagging_fraction=0.6, feature_fraction=0.7847766875579623,\n",
       "               learning_rate=0.45, max_depth=8, min_child_samples=100,\n",
       "               min_child_weight=0.01, min_data_in_leaf=15, n_estimators=300,\n",
       "               n_job=4, num_leaves=25, random_state=1, reg_alpha=5,\n",
       "               reg_lambda=0, subsample=0.75)"
      ]
     },
     "execution_count": 29,
     "metadata": {},
     "output_type": "execute_result"
    }
   ],
   "source": [
    "lgbm.fit(train_df[features_bsl], y)"
   ]
  },
  {
   "cell_type": "code",
   "execution_count": 30,
   "metadata": {
    "execution": {
     "iopub.execute_input": "2020-11-28T16:55:45.622917Z",
     "iopub.status.busy": "2020-11-28T16:55:45.622207Z",
     "iopub.status.idle": "2020-11-28T16:55:50.466116Z",
     "shell.execute_reply": "2020-11-28T16:55:50.465426Z"
    },
    "papermill": {
     "duration": 4.910411,
     "end_time": "2020-11-28T16:55:50.466255",
     "exception": false,
     "start_time": "2020-11-28T16:55:45.555844",
     "status": "completed"
    },
    "tags": []
   },
   "outputs": [
    {
     "name": "stdout",
     "output_type": "stream",
     "text": [
      "0.7854608254629457\n"
     ]
    }
   ],
   "source": [
    "print(roc_auc_score(y.values, lgbm.predict_proba(train_df[features_bsl])[:,1]))"
   ]
  },
  {
   "cell_type": "code",
   "execution_count": 31,
   "metadata": {
    "execution": {
     "iopub.execute_input": "2020-11-28T16:55:50.550066Z",
     "iopub.status.busy": "2020-11-28T16:55:50.549169Z",
     "iopub.status.idle": "2020-11-28T16:55:50.553218Z",
     "shell.execute_reply": "2020-11-28T16:55:50.553706Z"
    },
    "papermill": {
     "duration": 0.049289,
     "end_time": "2020-11-28T16:55:50.553858",
     "exception": false,
     "start_time": "2020-11-28T16:55:50.504569",
     "status": "completed"
    },
    "tags": []
   },
   "outputs": [],
   "source": [
    "if(IS_EVAL):\n",
    "    train_df.fillna(train_df.median(), inplace=True)\n",
    "    perm = PermutationImportance(lgbm, random_state=1).fit(train_df[features_bsl], y)\n",
    "    eli5.show_weights(perm, feature_names = features_bsl)"
   ]
  },
  {
   "cell_type": "code",
   "execution_count": 32,
   "metadata": {
    "execution": {
     "iopub.execute_input": "2020-11-28T16:55:50.639538Z",
     "iopub.status.busy": "2020-11-28T16:55:50.638676Z",
     "iopub.status.idle": "2020-11-28T16:55:50.642893Z",
     "shell.execute_reply": "2020-11-28T16:55:50.642073Z"
    },
    "papermill": {
     "duration": 0.049009,
     "end_time": "2020-11-28T16:55:50.643021",
     "exception": false,
     "start_time": "2020-11-28T16:55:50.594012",
     "status": "completed"
    },
    "tags": []
   },
   "outputs": [],
   "source": [
    "#displaying the most important features\n",
    "if(IS_TEST):\n",
    "    lgb.plot_importance(lgbm)\n",
    "    plt.show()"
   ]
  },
  {
   "cell_type": "code",
   "execution_count": 33,
   "metadata": {
    "execution": {
     "iopub.execute_input": "2020-11-28T16:55:50.765509Z",
     "iopub.status.busy": "2020-11-28T16:55:50.764664Z",
     "iopub.status.idle": "2020-11-28T16:55:50.768186Z",
     "shell.execute_reply": "2020-11-28T16:55:50.767527Z"
    },
    "papermill": {
     "duration": 0.066941,
     "end_time": "2020-11-28T16:55:50.768289",
     "exception": false,
     "start_time": "2020-11-28T16:55:50.701348",
     "status": "completed"
    },
    "tags": []
   },
   "outputs": [],
   "source": [
    "# You can only call make_env() once, so don't lose it!\n",
    "env = riiideducation.make_env()"
   ]
  },
  {
   "cell_type": "code",
   "execution_count": 34,
   "metadata": {
    "execution": {
     "iopub.execute_input": "2020-11-28T16:55:50.866231Z",
     "iopub.status.busy": "2020-11-28T16:55:50.865389Z",
     "iopub.status.idle": "2020-11-28T16:55:50.867376Z",
     "shell.execute_reply": "2020-11-28T16:55:50.867825Z"
    },
    "papermill": {
     "duration": 0.060508,
     "end_time": "2020-11-28T16:55:50.867963",
     "exception": false,
     "start_time": "2020-11-28T16:55:50.807455",
     "status": "completed"
    },
    "tags": []
   },
   "outputs": [],
   "source": [
    "user_sum_dict = user_agg['sum'].astype('int16').to_dict(defaultdict(int))\n",
    "user_count_dict = user_agg['count'].astype('int16').to_dict(defaultdict(int))\n",
    "content_sum_dict = content_agg['sum'].astype('int32').to_dict(defaultdict(int))\n",
    "content_count_dict = content_agg['count'].astype('int32').to_dict(defaultdict(int))"
   ]
  },
  {
   "cell_type": "code",
   "execution_count": 35,
   "metadata": {
    "execution": {
     "iopub.execute_input": "2020-11-28T16:55:50.973375Z",
     "iopub.status.busy": "2020-11-28T16:55:50.955511Z",
     "iopub.status.idle": "2020-11-28T16:55:51.393083Z",
     "shell.execute_reply": "2020-11-28T16:55:51.392334Z"
    },
    "papermill": {
     "duration": 0.486318,
     "end_time": "2020-11-28T16:55:51.393225",
     "exception": false,
     "start_time": "2020-11-28T16:55:50.906907",
     "status": "completed"
    },
    "tags": []
   },
   "outputs": [],
   "source": [
    "prev_test_df = None\n",
    "\n",
    "iter_test = env.iter_test()\n",
    "\n",
    "for (test_df, sample_prediction_df) in iter_test:\n",
    "    if prev_test_df is not None:\n",
    "        prev_test_df['answered_correctly_01']\n",
    "        \n",
    "        for user_id, content_id, answered_correctly in prev_test_df[['user_id', 'content_id', 'answered_correctly_01']].values:\n",
    "            state_user[user_id]['answered_correctly_user'] += answered_correctly\n",
    "            state_user[user_id]['answered_user'] += 1\n",
    "            state_user[user_id]['mean_user_accuracy'] = state_user[user_id]['answered_correctly_user'] / state_user[user_id]['answered_user']\n",
    "        \n",
    "    test_df = preprocessing_data(test_df)\n",
    "    \n",
    "    test_df = pd.merge(test_df,questions_df, how='left', left_on='content_id', right_on='question_id').sort_values('row_id')\n",
    "    test_df = test_df.sort_values(['user_id','timestamp'], ascending=False)\n",
    "\n",
    "    user_sum = np.zeros(len(test_df), dtype=np.int16)\n",
    "    user_count = np.zeros(len(test_df), dtype=np.int16)\n",
    "    user_mean = np.zeros(len(test_df), dtype=np.int16)\n",
    "    content_sum = np.zeros(len(test_df), dtype=np.int32)\n",
    "    content_count = np.zeros(len(test_df), dtype=np.int32)\n",
    "    content_mean = np.zeros(len(test_df), dtype=np.int16)\n",
    "    user_content_attempts = np.zeros(len(test_df), dtype=np.int8)\n",
    "    for i, (user_id, content_id) in enumerate(zip(test_df['user_id'].values, test_df['content_id'].values)):\n",
    "        \n",
    "        if user_id not in state_user:\n",
    "            dict_keys = ['mean_user_accuracy', 'answered_correctly_user', 'answered_user', 'user_content_attempts']\n",
    "            dict_default_vals = [0.680, 0, 0, dict(zip([content_id],[0]))]\n",
    "            state_user[user_id] = dict(zip(dict_keys, dict_default_vals))\n",
    "            \n",
    "        if content_id not in state_user[user_id]['user_content_attempts']:\n",
    "            state_user[user_id]['user_content_attempts'][content_id] = 1\n",
    "        else:\n",
    "            state_user[user_id]['user_content_attempts'][content_id] = state_user[user_id]['user_content_attempts'][content_id] + 1\n",
    "        \n",
    "        user_content_attempts[i]= state_user[user_id]['user_content_attempts'][content_id]\n",
    "        \n",
    "        user_sum[i] = user_sum_dict[user_id]\n",
    "        user_count[i] = user_count_dict[user_id]\n",
    "        user_mean[i] = state_user[user_id]['mean_user_accuracy']\n",
    "        \n",
    "        content_sum[i] = content_sum_dict[content_id]\n",
    "        content_count[i] = content_count_dict[content_id]\n",
    "        if(content_count[i] > 0 ) :\n",
    "            content_mean[i] = content_sum[i] / content_count[i]\n",
    "        else :\n",
    "            content_mean[i] = 0.65\n",
    "    test_df['nb_attempt'] = user_content_attempts\n",
    "    \n",
    "    test_df['user_count'] = user_count\n",
    "    test_df['user_sum'] = user_sum\n",
    "    test_df['user_nb_mean'] = user_mean\n",
    "    \n",
    "    test_df['content_count'] = content_count\n",
    "    test_df['content_nb_mean'] = content_sum/content_count\n",
    "    test_df['answered_correctly_01'] =  lgbm.predict(test_df[features_bsl])\n",
    "    test_df['answered_correctly'] =  lgbm.predict_proba(test_df[features_bsl])[:,1]\n",
    "    env.predict(test_df[['row_id', 'answered_correctly']])\n",
    "    prev_test_df = test_df.copy()"
   ]
  },
  {
   "cell_type": "code",
   "execution_count": 36,
   "metadata": {
    "execution": {
     "iopub.execute_input": "2020-11-28T16:55:51.519777Z",
     "iopub.status.busy": "2020-11-28T16:55:51.518979Z",
     "iopub.status.idle": "2020-11-28T16:55:51.522318Z",
     "shell.execute_reply": "2020-11-28T16:55:51.521613Z"
    },
    "papermill": {
     "duration": 0.070193,
     "end_time": "2020-11-28T16:55:51.522445",
     "exception": false,
     "start_time": "2020-11-28T16:55:51.452252",
     "status": "completed"
    },
    "tags": []
   },
   "outputs": [],
   "source": [
    "submission = pd.read_csv('./submission.csv')"
   ]
  },
  {
   "cell_type": "code",
   "execution_count": 37,
   "metadata": {
    "execution": {
     "iopub.execute_input": "2020-11-28T16:55:51.654691Z",
     "iopub.status.busy": "2020-11-28T16:55:51.646567Z",
     "iopub.status.idle": "2020-11-28T16:55:51.659324Z",
     "shell.execute_reply": "2020-11-28T16:55:51.658286Z"
    },
    "papermill": {
     "duration": 0.077262,
     "end_time": "2020-11-28T16:55:51.659484",
     "exception": false,
     "start_time": "2020-11-28T16:55:51.582222",
     "status": "completed"
    },
    "tags": []
   },
   "outputs": [
    {
     "name": "stdout",
     "output_type": "stream",
     "text": [
      "<class 'pandas.core.frame.DataFrame'>\n",
      "RangeIndex: 104 entries, 0 to 103\n",
      "Data columns (total 2 columns):\n",
      " #   Column              Non-Null Count  Dtype  \n",
      "---  ------              --------------  -----  \n",
      " 0   row_id              104 non-null    int64  \n",
      " 1   answered_correctly  104 non-null    float64\n",
      "dtypes: float64(1), int64(1)\n",
      "memory usage: 1.8 KB\n"
     ]
    }
   ],
   "source": [
    "submission.info()"
   ]
  },
  {
   "cell_type": "code",
   "execution_count": 38,
   "metadata": {
    "execution": {
     "iopub.execute_input": "2020-11-28T16:55:51.786007Z",
     "iopub.status.busy": "2020-11-28T16:55:51.785393Z",
     "iopub.status.idle": "2020-11-28T16:55:51.795760Z",
     "shell.execute_reply": "2020-11-28T16:55:51.795097Z"
    },
    "papermill": {
     "duration": 0.077285,
     "end_time": "2020-11-28T16:55:51.795876",
     "exception": false,
     "start_time": "2020-11-28T16:55:51.718591",
     "status": "completed"
    },
    "tags": []
   },
   "outputs": [
    {
     "data": {
      "text/html": [
       "<div>\n",
       "<style scoped>\n",
       "    .dataframe tbody tr th:only-of-type {\n",
       "        vertical-align: middle;\n",
       "    }\n",
       "\n",
       "    .dataframe tbody tr th {\n",
       "        vertical-align: top;\n",
       "    }\n",
       "\n",
       "    .dataframe thead th {\n",
       "        text-align: right;\n",
       "    }\n",
       "</style>\n",
       "<table border=\"1\" class=\"dataframe\">\n",
       "  <thead>\n",
       "    <tr style=\"text-align: right;\">\n",
       "      <th></th>\n",
       "      <th>row_id</th>\n",
       "      <th>answered_correctly</th>\n",
       "    </tr>\n",
       "  </thead>\n",
       "  <tbody>\n",
       "    <tr>\n",
       "      <th>0</th>\n",
       "      <td>17</td>\n",
       "      <td>0.704027</td>\n",
       "    </tr>\n",
       "    <tr>\n",
       "      <th>1</th>\n",
       "      <td>4</td>\n",
       "      <td>0.277226</td>\n",
       "    </tr>\n",
       "    <tr>\n",
       "      <th>2</th>\n",
       "      <td>2</td>\n",
       "      <td>0.601066</td>\n",
       "    </tr>\n",
       "    <tr>\n",
       "      <th>3</th>\n",
       "      <td>8</td>\n",
       "      <td>0.353694</td>\n",
       "    </tr>\n",
       "    <tr>\n",
       "      <th>4</th>\n",
       "      <td>6</td>\n",
       "      <td>0.534968</td>\n",
       "    </tr>\n",
       "  </tbody>\n",
       "</table>\n",
       "</div>"
      ],
      "text/plain": [
       "   row_id  answered_correctly\n",
       "0      17            0.704027\n",
       "1       4            0.277226\n",
       "2       2            0.601066\n",
       "3       8            0.353694\n",
       "4       6            0.534968"
      ]
     },
     "execution_count": 38,
     "metadata": {},
     "output_type": "execute_result"
    }
   ],
   "source": [
    "submission.head()"
   ]
  }
 ],
 "metadata": {
  "kernelspec": {
   "display_name": "Python 3",
   "language": "python",
   "name": "python3"
  },
  "language_info": {
   "codemirror_mode": {
    "name": "ipython",
    "version": 3
   },
   "file_extension": ".py",
   "mimetype": "text/x-python",
   "name": "python",
   "nbconvert_exporter": "python",
   "pygments_lexer": "ipython3",
   "version": "3.7.6"
  },
  "papermill": {
   "duration": 54.709184,
   "end_time": "2020-11-28T16:55:51.946292",
   "environment_variables": {},
   "exception": null,
   "input_path": "__notebook__.ipynb",
   "output_path": "__notebook__.ipynb",
   "parameters": {},
   "start_time": "2020-11-28T16:54:57.237108",
   "version": "2.1.0"
  },
  "widgets": {
   "application/vnd.jupyter.widget-state+json": {
    "state": {
     "026f998dff8945859698665a7402cc3e": {
      "model_module": "@jupyter-widgets/controls",
      "model_module_version": "1.5.0",
      "model_name": "HBoxModel",
      "state": {
       "_dom_classes": [],
       "_model_module": "@jupyter-widgets/controls",
       "_model_module_version": "1.5.0",
       "_model_name": "HBoxModel",
       "_view_count": null,
       "_view_module": "@jupyter-widgets/controls",
       "_view_module_version": "1.5.0",
       "_view_name": "HBoxView",
       "box_style": "",
       "children": [
        "IPY_MODEL_ec7c4c8c7a8c402dacd4991afea7c6fa",
        "IPY_MODEL_1309c0ffb3a44b29b6aa915c7ffa5790"
       ],
       "layout": "IPY_MODEL_8c389e45636d4d2eb3fa5180d5b16fcc"
      }
     },
     "1309c0ffb3a44b29b6aa915c7ffa5790": {
      "model_module": "@jupyter-widgets/controls",
      "model_module_version": "1.5.0",
      "model_name": "HTMLModel",
      "state": {
       "_dom_classes": [],
       "_model_module": "@jupyter-widgets/controls",
       "_model_module_version": "1.5.0",
       "_model_name": "HTMLModel",
       "_view_count": null,
       "_view_module": "@jupyter-widgets/controls",
       "_view_module_version": "1.5.0",
       "_view_name": "HTMLView",
       "description": "",
       "description_tooltip": null,
       "layout": "IPY_MODEL_62068bafbe1741e0a16afb6cf239397a",
       "placeholder": "​",
       "style": "IPY_MODEL_bc0e5d05c0dd4ee8b5ee4e5853a8729c",
       "value": " 3824/3824 [00:00&lt;00:00, 7557.68it/s]"
      }
     },
     "3c05a201133740828611c5cfc295a1c5": {
      "model_module": "@jupyter-widgets/base",
      "model_module_version": "1.2.0",
      "model_name": "LayoutModel",
      "state": {
       "_model_module": "@jupyter-widgets/base",
       "_model_module_version": "1.2.0",
       "_model_name": "LayoutModel",
       "_view_count": null,
       "_view_module": "@jupyter-widgets/base",
       "_view_module_version": "1.2.0",
       "_view_name": "LayoutView",
       "align_content": null,
       "align_items": null,
       "align_self": null,
       "border": null,
       "bottom": null,
       "display": null,
       "flex": null,
       "flex_flow": null,
       "grid_area": null,
       "grid_auto_columns": null,
       "grid_auto_flow": null,
       "grid_auto_rows": null,
       "grid_column": null,
       "grid_gap": null,
       "grid_row": null,
       "grid_template_areas": null,
       "grid_template_columns": null,
       "grid_template_rows": null,
       "height": null,
       "justify_content": null,
       "justify_items": null,
       "left": null,
       "margin": null,
       "max_height": null,
       "max_width": null,
       "min_height": null,
       "min_width": null,
       "object_fit": null,
       "object_position": null,
       "order": null,
       "overflow": null,
       "overflow_x": null,
       "overflow_y": null,
       "padding": null,
       "right": null,
       "top": null,
       "visibility": null,
       "width": null
      }
     },
     "62068bafbe1741e0a16afb6cf239397a": {
      "model_module": "@jupyter-widgets/base",
      "model_module_version": "1.2.0",
      "model_name": "LayoutModel",
      "state": {
       "_model_module": "@jupyter-widgets/base",
       "_model_module_version": "1.2.0",
       "_model_name": "LayoutModel",
       "_view_count": null,
       "_view_module": "@jupyter-widgets/base",
       "_view_module_version": "1.2.0",
       "_view_name": "LayoutView",
       "align_content": null,
       "align_items": null,
       "align_self": null,
       "border": null,
       "bottom": null,
       "display": null,
       "flex": null,
       "flex_flow": null,
       "grid_area": null,
       "grid_auto_columns": null,
       "grid_auto_flow": null,
       "grid_auto_rows": null,
       "grid_column": null,
       "grid_gap": null,
       "grid_row": null,
       "grid_template_areas": null,
       "grid_template_columns": null,
       "grid_template_rows": null,
       "height": null,
       "justify_content": null,
       "justify_items": null,
       "left": null,
       "margin": null,
       "max_height": null,
       "max_width": null,
       "min_height": null,
       "min_width": null,
       "object_fit": null,
       "object_position": null,
       "order": null,
       "overflow": null,
       "overflow_x": null,
       "overflow_y": null,
       "padding": null,
       "right": null,
       "top": null,
       "visibility": null,
       "width": null
      }
     },
     "8c389e45636d4d2eb3fa5180d5b16fcc": {
      "model_module": "@jupyter-widgets/base",
      "model_module_version": "1.2.0",
      "model_name": "LayoutModel",
      "state": {
       "_model_module": "@jupyter-widgets/base",
       "_model_module_version": "1.2.0",
       "_model_name": "LayoutModel",
       "_view_count": null,
       "_view_module": "@jupyter-widgets/base",
       "_view_module_version": "1.2.0",
       "_view_name": "LayoutView",
       "align_content": null,
       "align_items": null,
       "align_self": null,
       "border": null,
       "bottom": null,
       "display": null,
       "flex": null,
       "flex_flow": null,
       "grid_area": null,
       "grid_auto_columns": null,
       "grid_auto_flow": null,
       "grid_auto_rows": null,
       "grid_column": null,
       "grid_gap": null,
       "grid_row": null,
       "grid_template_areas": null,
       "grid_template_columns": null,
       "grid_template_rows": null,
       "height": null,
       "justify_content": null,
       "justify_items": null,
       "left": null,
       "margin": null,
       "max_height": null,
       "max_width": null,
       "min_height": null,
       "min_width": null,
       "object_fit": null,
       "object_position": null,
       "order": null,
       "overflow": null,
       "overflow_x": null,
       "overflow_y": null,
       "padding": null,
       "right": null,
       "top": null,
       "visibility": null,
       "width": null
      }
     },
     "bc0e5d05c0dd4ee8b5ee4e5853a8729c": {
      "model_module": "@jupyter-widgets/controls",
      "model_module_version": "1.5.0",
      "model_name": "DescriptionStyleModel",
      "state": {
       "_model_module": "@jupyter-widgets/controls",
       "_model_module_version": "1.5.0",
       "_model_name": "DescriptionStyleModel",
       "_view_count": null,
       "_view_module": "@jupyter-widgets/base",
       "_view_module_version": "1.2.0",
       "_view_name": "StyleView",
       "description_width": ""
      }
     },
     "e3670ce26f6349cbbfd94b402df3245d": {
      "model_module": "@jupyter-widgets/controls",
      "model_module_version": "1.5.0",
      "model_name": "ProgressStyleModel",
      "state": {
       "_model_module": "@jupyter-widgets/controls",
       "_model_module_version": "1.5.0",
       "_model_name": "ProgressStyleModel",
       "_view_count": null,
       "_view_module": "@jupyter-widgets/base",
       "_view_module_version": "1.2.0",
       "_view_name": "StyleView",
       "bar_color": null,
       "description_width": "initial"
      }
     },
     "ec7c4c8c7a8c402dacd4991afea7c6fa": {
      "model_module": "@jupyter-widgets/controls",
      "model_module_version": "1.5.0",
      "model_name": "FloatProgressModel",
      "state": {
       "_dom_classes": [],
       "_model_module": "@jupyter-widgets/controls",
       "_model_module_version": "1.5.0",
       "_model_name": "FloatProgressModel",
       "_view_count": null,
       "_view_module": "@jupyter-widgets/controls",
       "_view_module_version": "1.5.0",
       "_view_name": "ProgressView",
       "bar_style": "success",
       "description": "100%",
       "description_tooltip": null,
       "layout": "IPY_MODEL_3c05a201133740828611c5cfc295a1c5",
       "max": 3824.0,
       "min": 0.0,
       "orientation": "horizontal",
       "style": "IPY_MODEL_e3670ce26f6349cbbfd94b402df3245d",
       "value": 3824.0
      }
     }
    },
    "version_major": 2,
    "version_minor": 0
   }
  }
 },
 "nbformat": 4,
 "nbformat_minor": 4
}
