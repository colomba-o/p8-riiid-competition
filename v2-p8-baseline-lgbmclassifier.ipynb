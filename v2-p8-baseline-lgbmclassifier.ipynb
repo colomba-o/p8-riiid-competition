{
 "cells": [
  {
   "cell_type": "markdown",
   "metadata": {
    "papermill": {
     "duration": 0.040697,
     "end_time": "2020-11-28T17:04:30.797944",
     "exception": false,
     "start_time": "2020-11-28T17:04:30.757247",
     "status": "completed"
    },
    "tags": []
   },
   "source": [
    "# **Riiid! Answer Correctness Prediction**\n",
    "\n",
    "We are going to predict if the user will predict the correct answer ... or not.\n",
    "\n",
    "For that, we will use LGBMClassifier model."
   ]
  },
  {
   "cell_type": "markdown",
   "metadata": {
    "papermill": {
     "duration": 0.036436,
     "end_time": "2020-11-28T17:04:30.872103",
     "exception": false,
     "start_time": "2020-11-28T17:04:30.835667",
     "status": "completed"
    },
    "tags": []
   },
   "source": [
    "## IMPORTS"
   ]
  },
  {
   "cell_type": "code",
   "execution_count": 1,
   "metadata": {
    "execution": {
     "iopub.execute_input": "2020-11-28T17:04:30.959056Z",
     "iopub.status.busy": "2020-11-28T17:04:30.956624Z",
     "iopub.status.idle": "2020-11-28T17:04:42.238989Z",
     "shell.execute_reply": "2020-11-28T17:04:42.238002Z"
    },
    "papermill": {
     "duration": 11.329734,
     "end_time": "2020-11-28T17:04:42.239152",
     "exception": false,
     "start_time": "2020-11-28T17:04:30.909418",
     "status": "completed"
    },
    "tags": []
   },
   "outputs": [
    {
     "name": "stderr",
     "output_type": "stream",
     "text": [
      "/opt/conda/lib/python3.7/site-packages/sklearn/utils/deprecation.py:143: FutureWarning: The sklearn.metrics.scorer module is  deprecated in version 0.22 and will be removed in version 0.24. The corresponding classes / functions should instead be imported from sklearn.metrics. Anything that cannot be imported from sklearn.metrics is now part of the private API.\n",
      "  warnings.warn(message, FutureWarning)\n",
      "/opt/conda/lib/python3.7/site-packages/sklearn/utils/deprecation.py:143: FutureWarning: The sklearn.feature_selection.base module is  deprecated in version 0.22 and will be removed in version 0.24. The corresponding classes / functions should instead be imported from sklearn.feature_selection. Anything that cannot be imported from sklearn.feature_selection is now part of the private API.\n",
      "  warnings.warn(message, FutureWarning)\n"
     ]
    }
   ],
   "source": [
    "import eli5\n",
    "import gc\n",
    "import lightgbm as lgb\n",
    "import matplotlib.pyplot as plt\n",
    "import nltk\n",
    "import numpy as np\n",
    "import os\n",
    "import pandas as pd\n",
    "import riiideducation\n",
    "import seaborn as sns\n",
    "import time\n",
    "\n",
    "\n",
    "from collections import defaultdict\n",
    "from eli5.sklearn import PermutationImportance\n",
    "from hyperopt import hp\n",
    "from hyperopt import fmin, tpe, STATUS_OK, Trials\n",
    "from hyperopt.pyll import scope\n",
    "from lightgbm import LGBMClassifier\n",
    "from sklearn import pipeline\n",
    "from sklearn.metrics import roc_auc_score\n",
    "from sklearn.model_selection import KFold, cross_val_score\n",
    "from sklearn.model_selection import cross_val_score\n",
    "from sklearn.model_selection import train_test_split\n",
    "from sklearn.preprocessing import MultiLabelBinarizer\n",
    "from sklearn.preprocessing import StandardScaler\n",
    "from sklearn.preprocessing import MinMaxScaler\n",
    "from tqdm.notebook import tqdm"
   ]
  },
  {
   "cell_type": "markdown",
   "metadata": {
    "papermill": {
     "duration": 0.036698,
     "end_time": "2020-11-28T17:04:42.314675",
     "exception": false,
     "start_time": "2020-11-28T17:04:42.277977",
     "status": "completed"
    },
    "tags": []
   },
   "source": [
    "## GLOBAL PARAMETERS"
   ]
  },
  {
   "cell_type": "code",
   "execution_count": 2,
   "metadata": {
    "execution": {
     "iopub.execute_input": "2020-11-28T17:04:42.408522Z",
     "iopub.status.busy": "2020-11-28T17:04:42.407514Z",
     "iopub.status.idle": "2020-11-28T17:04:42.410764Z",
     "shell.execute_reply": "2020-11-28T17:04:42.410092Z"
    },
    "papermill": {
     "duration": 0.057322,
     "end_time": "2020-11-28T17:04:42.410910",
     "exception": false,
     "start_time": "2020-11-28T17:04:42.353588",
     "status": "completed"
    },
    "tags": []
   },
   "outputs": [],
   "source": [
    "IS_TIMESTAMPS_IN_MONTH = False\n",
    "IS_TIMESTAMPS_IN_DAY = False\n",
    "IS_TIMESTAMPS_IN_HOUR = True\n",
    "\n",
    "IS_PRIOR_TIME_IN_HOUR = True\n",
    "\n",
    "IS_FIRST_QUESTION = True\n",
    "\n",
    "IS_TEST = False\n",
    "\n",
    "IS_EVAL = False\n",
    "\n",
    "NBMILLISEC_IN_HOUR = 1000 * 60 * 60\n",
    "\n",
    "NB_TAGS = 25"
   ]
  },
  {
   "cell_type": "markdown",
   "metadata": {
    "papermill": {
     "duration": 0.036939,
     "end_time": "2020-11-28T17:04:42.485237",
     "exception": false,
     "start_time": "2020-11-28T17:04:42.448298",
     "status": "completed"
    },
    "tags": []
   },
   "source": [
    "## FUNCTIONS"
   ]
  },
  {
   "cell_type": "code",
   "execution_count": 3,
   "metadata": {
    "execution": {
     "iopub.execute_input": "2020-11-28T17:04:42.571912Z",
     "iopub.status.busy": "2020-11-28T17:04:42.570945Z",
     "iopub.status.idle": "2020-11-28T17:04:42.586561Z",
     "shell.execute_reply": "2020-11-28T17:04:42.585715Z"
    },
    "papermill": {
     "duration": 0.063854,
     "end_time": "2020-11-28T17:04:42.586707",
     "exception": false,
     "start_time": "2020-11-28T17:04:42.522853",
     "status": "completed"
    },
    "tags": []
   },
   "outputs": [],
   "source": [
    "def tags_column_processing(tags):\n",
    "    '''Function which replace existing tags list by \n",
    "    a new list tags by keeping only tags in list selected_tags '''\n",
    "    new_tags = []\n",
    "    tags_words = tags.split()\n",
    "    for tag in tags_words:\n",
    "        if (tag in selected_tags) :\n",
    "            new_tags.append(tag)   \n",
    "    return new_tags\n",
    "\n",
    "def preprocessing_data(data_df):\n",
    "    '''Function which preprocess data (test and train)'''\n",
    "    data_df = data_df[data_df['content_type_id'] == 0]\n",
    "    data_df = data_df.drop(['content_type_id'], axis=1)\n",
    "    data_df['prior_had_explanation_le'] = 0\n",
    "    data_df.loc[data_df[\"prior_question_had_explanation\"]== True,\n",
    "                \"prior_had_explanation_le\"] = 1\n",
    "    data_df = data_df.drop(['prior_question_had_explanation'], axis=1)\n",
    "    \n",
    "    if(IS_FIRST_QUESTION):\n",
    "        data_df['is_first_question'] = 0\n",
    "        data_df.loc[(data_df['prior_question_elapsed_time'].isna()) | (data_df['timestamp'] == 0),\\\n",
    "                    'is_first_question'] = 1\n",
    "        data_df = data_df.astype({\"is_first_question\":'int8'}) \n",
    "    \n",
    "    if(IS_TIMESTAMPS_IN_MONTH):\n",
    "        data_df['timestamp_in_month'] = data_df['timestamp'] / (NBMILLISEC_IN_HOUR * 24 * 365 / 12)\n",
    "        data_df = data_df.astype({\"timestamp_in_month\":'float32'}) \n",
    "        \n",
    "    if(IS_TIMESTAMPS_IN_DAY):\n",
    "        data_df['timestamp_in_day'] = data_df['timestamp'] / (NBMILLISEC_IN_HOUR * 24)\n",
    "        data_df = data_df.astype({\"timestamp_in_day\":'float32'})\n",
    "    \n",
    "    if(IS_TIMESTAMPS_IN_HOUR):\n",
    "        data_df['timestamp_in_hour'] = data_df['timestamp'] / (NBMILLISEC_IN_HOUR)\n",
    "        data_df = data_df.astype({\"timestamp_in_hour\":'float32'}) \n",
    "        \n",
    "    prior_question_elapsed_time_mean = data_df[~data_df['prior_question_elapsed_time'].\\\n",
    "                                               isna()]['prior_question_elapsed_time'].mean()\n",
    "    data_df['prior_question_elapsed_time'].fillna(prior_question_elapsed_time_mean, inplace=True)\n",
    "    if(IS_PRIOR_TIME_IN_HOUR):\n",
    "        data_df['prior_time_in_hours'] = data_df['prior_question_elapsed_time'] / NBMILLISEC_IN_HOUR\n",
    "        data_df = data_df.astype({\"prior_time_in_hours\":'float32'}) \n",
    "    return data_df"
   ]
  },
  {
   "cell_type": "markdown",
   "metadata": {
    "papermill": {
     "duration": 0.038685,
     "end_time": "2020-11-28T17:04:42.663069",
     "exception": false,
     "start_time": "2020-11-28T17:04:42.624384",
     "status": "completed"
    },
    "tags": []
   },
   "source": [
    "## Data loading\n",
    "\n",
    "We will follow this tutorials : [Competition API Detailed Introduction](https://www.kaggle.com/sohier/competition-api-detailed-introduction) and \n",
    "[Tutorial on reading large datasets](http://https://www.kaggle.com/rohanrao/tutorial-on-reading-large-datasets/)."
   ]
  },
  {
   "cell_type": "code",
   "execution_count": 4,
   "metadata": {
    "execution": {
     "iopub.execute_input": "2020-11-28T17:04:42.748796Z",
     "iopub.status.busy": "2020-11-28T17:04:42.747598Z",
     "iopub.status.idle": "2020-11-28T17:04:42.790984Z",
     "shell.execute_reply": "2020-11-28T17:04:42.790116Z"
    },
    "papermill": {
     "duration": 0.089667,
     "end_time": "2020-11-28T17:04:42.791175",
     "exception": false,
     "start_time": "2020-11-28T17:04:42.701508",
     "status": "completed"
    },
    "tags": []
   },
   "outputs": [
    {
     "name": "stdout",
     "output_type": "stream",
     "text": [
      "CPU times: user 21.4 ms, sys: 11.8 ms, total: 33.2 ms\n",
      "Wall time: 39.6 ms\n"
     ]
    }
   ],
   "source": [
    "%%time\n",
    "\n",
    "questions_df = pd.read_csv('/kaggle/input/riiid-test-answer-prediction/questions.csv')\n",
    "example_test = pd.read_csv('/kaggle/input/riiid-test-answer-prediction/example_test.csv')\n",
    "example_sample_submission = pd.read_csv('/kaggle/input/riiid-test-answer-prediction/example_sample_submission.csv')"
   ]
  },
  {
   "cell_type": "code",
   "execution_count": 5,
   "metadata": {
    "execution": {
     "iopub.execute_input": "2020-11-28T17:04:42.880462Z",
     "iopub.status.busy": "2020-11-28T17:04:42.879287Z",
     "iopub.status.idle": "2020-11-28T17:04:46.354378Z",
     "shell.execute_reply": "2020-11-28T17:04:46.352935Z"
    },
    "papermill": {
     "duration": 3.524362,
     "end_time": "2020-11-28T17:04:46.354673",
     "exception": false,
     "start_time": "2020-11-28T17:04:42.830311",
     "status": "completed"
    },
    "tags": []
   },
   "outputs": [
    {
     "name": "stdout",
     "output_type": "stream",
     "text": [
      "Train size: (1000000, 10)\n",
      "CPU times: user 2.94 s, sys: 432 ms, total: 3.37 s\n",
      "Wall time: 3.47 s\n"
     ]
    }
   ],
   "source": [
    "%%time\n",
    "\n",
    "dtypes = {\n",
    "    \"row_id\": \"int64\",\n",
    "    \"timestamp\": \"int64\",\n",
    "    \"user_id\": \"int32\",\n",
    "    \"content_id\": \"int16\",\n",
    "    \"content_type_id\": \"int8\",\n",
    "    \"task_container_id\": \"int16\",\n",
    "    \"user_answer\": \"int8\",\n",
    "    \"answered_correctly\": \"int8\",\n",
    "    \"prior_question_elapsed_time\": \"float32\", \n",
    "    \"prior_question_had_explanation\": \"boolean\"\n",
    "}\n",
    "\n",
    "train_df = pd.read_csv('/kaggle/input/riiid-test-answer-prediction/train.csv', \n",
    "                       low_memory=False, \n",
    "                       nrows=10**6, \n",
    "                       dtype=dtypes\n",
    "                      )\n",
    "print(\"Train size:\", train_df.shape)"
   ]
  },
  {
   "cell_type": "code",
   "execution_count": 6,
   "metadata": {
    "execution": {
     "iopub.execute_input": "2020-11-28T17:04:46.443417Z",
     "iopub.status.busy": "2020-11-28T17:04:46.441748Z",
     "iopub.status.idle": "2020-11-28T17:04:46.988534Z",
     "shell.execute_reply": "2020-11-28T17:04:46.987441Z"
    },
    "papermill": {
     "duration": 0.595105,
     "end_time": "2020-11-28T17:04:46.988708",
     "exception": false,
     "start_time": "2020-11-28T17:04:46.393603",
     "status": "completed"
    },
    "tags": []
   },
   "outputs": [],
   "source": [
    "train_df = preprocessing_data(train_df)"
   ]
  },
  {
   "cell_type": "code",
   "execution_count": 7,
   "metadata": {
    "execution": {
     "iopub.execute_input": "2020-11-28T17:04:47.080005Z",
     "iopub.status.busy": "2020-11-28T17:04:47.078949Z",
     "iopub.status.idle": "2020-11-28T17:04:47.084252Z",
     "shell.execute_reply": "2020-11-28T17:04:47.083474Z"
    },
    "papermill": {
     "duration": 0.056119,
     "end_time": "2020-11-28T17:04:47.084402",
     "exception": false,
     "start_time": "2020-11-28T17:04:47.028283",
     "status": "completed"
    },
    "tags": []
   },
   "outputs": [
    {
     "data": {
      "text/plain": [
       "Index                          7840744\n",
       "row_id                         7840744\n",
       "timestamp                      7840744\n",
       "user_id                        3920372\n",
       "content_id                     1960186\n",
       "task_container_id              1960186\n",
       "user_answer                     980093\n",
       "answered_correctly              980093\n",
       "prior_question_elapsed_time    3920372\n",
       "prior_had_explanation_le       7840744\n",
       "is_first_question               980093\n",
       "timestamp_in_hour              3920372\n",
       "prior_time_in_hours            3920372\n",
       "dtype: int64"
      ]
     },
     "execution_count": 7,
     "metadata": {},
     "output_type": "execute_result"
    }
   ],
   "source": [
    "train_df.memory_usage(deep=True)"
   ]
  },
  {
   "cell_type": "markdown",
   "metadata": {
    "papermill": {
     "duration": 0.039216,
     "end_time": "2020-11-28T17:04:47.163482",
     "exception": false,
     "start_time": "2020-11-28T17:04:47.124266",
     "status": "completed"
    },
    "tags": []
   },
   "source": [
    "## We keep 2 years (cf EDA)"
   ]
  },
  {
   "cell_type": "code",
   "execution_count": 8,
   "metadata": {
    "execution": {
     "iopub.execute_input": "2020-11-28T17:04:47.249556Z",
     "iopub.status.busy": "2020-11-28T17:04:47.248664Z",
     "iopub.status.idle": "2020-11-28T17:04:47.299782Z",
     "shell.execute_reply": "2020-11-28T17:04:47.299047Z"
    },
    "papermill": {
     "duration": 0.096973,
     "end_time": "2020-11-28T17:04:47.299959",
     "exception": false,
     "start_time": "2020-11-28T17:04:47.202986",
     "status": "completed"
    },
    "tags": []
   },
   "outputs": [],
   "source": [
    "train_df = train_df[train_df['timestamp'] <= (2 * 365 * 24 * 60 *60 *1000)]"
   ]
  },
  {
   "cell_type": "markdown",
   "metadata": {
    "papermill": {
     "duration": 0.040082,
     "end_time": "2020-11-28T17:04:47.380859",
     "exception": false,
     "start_time": "2020-11-28T17:04:47.340777",
     "status": "completed"
    },
    "tags": []
   },
   "source": [
    "## questions.csv"
   ]
  },
  {
   "cell_type": "code",
   "execution_count": 9,
   "metadata": {
    "execution": {
     "iopub.execute_input": "2020-11-28T17:04:47.487613Z",
     "iopub.status.busy": "2020-11-28T17:04:47.476658Z",
     "iopub.status.idle": "2020-11-28T17:04:47.496262Z",
     "shell.execute_reply": "2020-11-28T17:04:47.495496Z"
    },
    "papermill": {
     "duration": 0.075721,
     "end_time": "2020-11-28T17:04:47.496412",
     "exception": false,
     "start_time": "2020-11-28T17:04:47.420691",
     "status": "completed"
    },
    "tags": []
   },
   "outputs": [],
   "source": [
    "questions_df['tags'].fillna(\"\", inplace=True)\n",
    "questions_df[\"nb_tags\"] = questions_df[\"tags\"].apply(lambda text: len(text.split()))\n",
    "questions_df = questions_df[questions_df[\"nb_tags\"] > 0]"
   ]
  },
  {
   "cell_type": "code",
   "execution_count": 10,
   "metadata": {
    "execution": {
     "iopub.execute_input": "2020-11-28T17:04:47.599022Z",
     "iopub.status.busy": "2020-11-28T17:04:47.597680Z",
     "iopub.status.idle": "2020-11-28T17:04:47.611188Z",
     "shell.execute_reply": "2020-11-28T17:04:47.610328Z"
    },
    "papermill": {
     "duration": 0.073972,
     "end_time": "2020-11-28T17:04:47.611362",
     "exception": false,
     "start_time": "2020-11-28T17:04:47.537390",
     "status": "completed"
    },
    "tags": []
   },
   "outputs": [],
   "source": [
    "questions_df['tags_list'] = questions_df['tags'].apply(lambda x: x.split())\n",
    "tags_list = [item for sublist in questions_df['tags_list'].values for item in sublist]\n",
    "\n",
    "tags_unique_list = list(set(tags_list))\n",
    "if(IS_TEST):\n",
    "    print(len(tags_list))\n",
    "    print(len(tags_unique_list))"
   ]
  },
  {
   "cell_type": "code",
   "execution_count": 11,
   "metadata": {
    "execution": {
     "iopub.execute_input": "2020-11-28T17:04:47.724548Z",
     "iopub.status.busy": "2020-11-28T17:04:47.703451Z",
     "iopub.status.idle": "2020-11-28T17:04:47.818872Z",
     "shell.execute_reply": "2020-11-28T17:04:47.818008Z"
    },
    "papermill": {
     "duration": 0.166836,
     "end_time": "2020-11-28T17:04:47.819018",
     "exception": false,
     "start_time": "2020-11-28T17:04:47.652182",
     "status": "completed"
    },
    "tags": []
   },
   "outputs": [],
   "source": [
    "tags_frequence= nltk.FreqDist(tags_list)\n",
    "\n",
    "words_most_common = tags_frequence.most_common(NB_TAGS)\n",
    "fq_words_df = pd.DataFrame(words_most_common, columns = ['tags' , 'nb_tags'])\n",
    "\n",
    "selected_tags = (fq_words_df['tags'][:NB_TAGS]).to_list()\n",
    "\n",
    "questions_df['new_tags'] = questions_df[\"tags\"].apply(lambda text : tags_column_processing(text))\n",
    "classes_tags = tuple(selected_tags)\n",
    "one_hot = MultiLabelBinarizer(classes = classes_tags )\n",
    "\n",
    "types_encoded = pd.DataFrame(one_hot.fit_transform(questions_df['new_tags']),columns=one_hot.classes_)\n",
    "#types_encoded.head()\n",
    "questions_df = pd.concat([questions_df,types_encoded], axis = 1)"
   ]
  },
  {
   "cell_type": "code",
   "execution_count": 12,
   "metadata": {
    "execution": {
     "iopub.execute_input": "2020-11-28T17:04:47.908102Z",
     "iopub.status.busy": "2020-11-28T17:04:47.907142Z",
     "iopub.status.idle": "2020-11-28T17:04:47.919143Z",
     "shell.execute_reply": "2020-11-28T17:04:47.918368Z"
    },
    "papermill": {
     "duration": 0.059981,
     "end_time": "2020-11-28T17:04:47.919295",
     "exception": false,
     "start_time": "2020-11-28T17:04:47.859314",
     "status": "completed"
    },
    "tags": []
   },
   "outputs": [],
   "source": [
    "# Drop column B as it is now encoded\n",
    "questions_df = questions_df.drop(['new_tags', 'tags', 'tags_list'],axis = 1)"
   ]
  },
  {
   "cell_type": "code",
   "execution_count": 13,
   "metadata": {
    "execution": {
     "iopub.execute_input": "2020-11-28T17:04:48.010046Z",
     "iopub.status.busy": "2020-11-28T17:04:48.008795Z",
     "iopub.status.idle": "2020-11-28T17:04:48.015045Z",
     "shell.execute_reply": "2020-11-28T17:04:48.014163Z"
    },
    "papermill": {
     "duration": 0.054542,
     "end_time": "2020-11-28T17:04:48.015191",
     "exception": false,
     "start_time": "2020-11-28T17:04:47.960649",
     "status": "completed"
    },
    "tags": []
   },
   "outputs": [],
   "source": [
    "questions_df = questions_df[~questions_df['part'].isna()]"
   ]
  },
  {
   "cell_type": "code",
   "execution_count": 14,
   "metadata": {
    "execution": {
     "iopub.execute_input": "2020-11-28T17:04:48.113128Z",
     "iopub.status.busy": "2020-11-28T17:04:48.111664Z",
     "iopub.status.idle": "2020-11-28T17:04:48.120503Z",
     "shell.execute_reply": "2020-11-28T17:04:48.119545Z"
    },
    "papermill": {
     "duration": 0.064329,
     "end_time": "2020-11-28T17:04:48.120669",
     "exception": false,
     "start_time": "2020-11-28T17:04:48.056340",
     "status": "completed"
    },
    "tags": []
   },
   "outputs": [],
   "source": [
    "questions_df['is_easy_part'] = 0\n",
    "questions_df['is_medium_part'] = 0\n",
    "questions_df['is_difficult_part'] = 0\n",
    "questions_df.loc[questions_df['part'] <= 3 ,'is_easy_part'] = 1\n",
    "questions_df.loc[(questions_df['part'] == 4)|(questions_df['part'] == 5) ,'is_difficult_part'] = 1\n",
    "questions_df.loc[questions_df['part'] >6 ,'is_medium_part'] = 1"
   ]
  },
  {
   "cell_type": "code",
   "execution_count": 15,
   "metadata": {
    "execution": {
     "iopub.execute_input": "2020-11-28T17:04:48.213861Z",
     "iopub.status.busy": "2020-11-28T17:04:48.212900Z",
     "iopub.status.idle": "2020-11-28T17:04:48.219127Z",
     "shell.execute_reply": "2020-11-28T17:04:48.218283Z"
    },
    "papermill": {
     "duration": 0.055484,
     "end_time": "2020-11-28T17:04:48.219298",
     "exception": false,
     "start_time": "2020-11-28T17:04:48.163814",
     "status": "completed"
    },
    "tags": []
   },
   "outputs": [],
   "source": [
    "questions_df['is_reading_section']= 0 \n",
    "questions_df.loc[questions_df['part'] >= 5 ,'is_reading_section'] = 1"
   ]
  },
  {
   "cell_type": "markdown",
   "metadata": {
    "papermill": {
     "duration": 0.040523,
     "end_time": "2020-11-28T17:04:48.302503",
     "exception": false,
     "start_time": "2020-11-28T17:04:48.261980",
     "status": "completed"
    },
    "tags": []
   },
   "source": [
    "## Merge questions and train"
   ]
  },
  {
   "cell_type": "code",
   "execution_count": 16,
   "metadata": {
    "execution": {
     "iopub.execute_input": "2020-11-28T17:04:48.395116Z",
     "iopub.status.busy": "2020-11-28T17:04:48.393624Z",
     "iopub.status.idle": "2020-11-28T17:04:49.458161Z",
     "shell.execute_reply": "2020-11-28T17:04:49.458815Z"
    },
    "papermill": {
     "duration": 1.115441,
     "end_time": "2020-11-28T17:04:49.459035",
     "exception": false,
     "start_time": "2020-11-28T17:04:48.343594",
     "status": "completed"
    },
    "tags": []
   },
   "outputs": [],
   "source": [
    "train_df = pd.merge(train_df,questions_df, how='left', left_on='content_id', right_on='question_id').sort_values('row_id')"
   ]
  },
  {
   "cell_type": "code",
   "execution_count": 17,
   "metadata": {
    "execution": {
     "iopub.execute_input": "2020-11-28T17:04:49.554082Z",
     "iopub.status.busy": "2020-11-28T17:04:49.553199Z",
     "iopub.status.idle": "2020-11-28T17:04:49.673181Z",
     "shell.execute_reply": "2020-11-28T17:04:49.673857Z"
    },
    "papermill": {
     "duration": 0.170643,
     "end_time": "2020-11-28T17:04:49.674038",
     "exception": false,
     "start_time": "2020-11-28T17:04:49.503395",
     "status": "completed"
    },
    "tags": []
   },
   "outputs": [],
   "source": [
    "user_agg = train_df.groupby('user_id')['answered_correctly'].\\\n",
    "                    agg(['sum', 'count'])\n",
    "train_df['user_count'] = train_df['user_id'].map(user_agg['count']).astype('int32')\n",
    "train_df['user_nb_mean'] = train_df['user_id'].map(user_agg['sum']/user_agg['count']).astype('int32')"
   ]
  },
  {
   "cell_type": "code",
   "execution_count": 18,
   "metadata": {
    "execution": {
     "iopub.execute_input": "2020-11-28T17:04:49.767980Z",
     "iopub.status.busy": "2020-11-28T17:04:49.766821Z",
     "iopub.status.idle": "2020-11-28T17:04:49.849479Z",
     "shell.execute_reply": "2020-11-28T17:04:49.850243Z"
    },
    "papermill": {
     "duration": 0.134101,
     "end_time": "2020-11-28T17:04:49.850472",
     "exception": false,
     "start_time": "2020-11-28T17:04:49.716371",
     "status": "completed"
    },
    "tags": []
   },
   "outputs": [],
   "source": [
    "content_agg = train_df.groupby('content_id')['answered_correctly'].\\\n",
    "                        agg(['sum', 'count']) #'mean', 'median', 'std'\n",
    "train_df['content_count'] = train_df['content_id'].map(content_agg['count']).astype('int32')\n",
    "train_df['content_nb_mean'] = train_df['content_id'].map(content_agg['sum'] / content_agg['count'])"
   ]
  },
  {
   "cell_type": "markdown",
   "metadata": {
    "papermill": {
     "duration": 0.041561,
     "end_time": "2020-11-28T17:04:49.933758",
     "exception": false,
     "start_time": "2020-11-28T17:04:49.892197",
     "status": "completed"
    },
    "tags": []
   },
   "source": [
    "Number of attempts"
   ]
  },
  {
   "cell_type": "code",
   "execution_count": 19,
   "metadata": {
    "execution": {
     "iopub.execute_input": "2020-11-28T17:04:50.027241Z",
     "iopub.status.busy": "2020-11-28T17:04:50.026361Z",
     "iopub.status.idle": "2020-11-28T17:04:50.887683Z",
     "shell.execute_reply": "2020-11-28T17:04:50.886748Z"
    },
    "papermill": {
     "duration": 0.911373,
     "end_time": "2020-11-28T17:04:50.887852",
     "exception": false,
     "start_time": "2020-11-28T17:04:49.976479",
     "status": "completed"
    },
    "tags": []
   },
   "outputs": [],
   "source": [
    "train_df['nb_attempt'] = train_df.groupby(['user_id', 'content_id']).cumcount()+1"
   ]
  },
  {
   "cell_type": "code",
   "execution_count": 20,
   "metadata": {
    "execution": {
     "iopub.execute_input": "2020-11-28T17:04:50.978931Z",
     "iopub.status.busy": "2020-11-28T17:04:50.978039Z",
     "iopub.status.idle": "2020-11-28T17:04:50.980507Z",
     "shell.execute_reply": "2020-11-28T17:04:50.981090Z"
    },
    "papermill": {
     "duration": 0.05167,
     "end_time": "2020-11-28T17:04:50.981272",
     "exception": false,
     "start_time": "2020-11-28T17:04:50.929602",
     "status": "completed"
    },
    "tags": []
   },
   "outputs": [],
   "source": [
    "if(IS_TEST):\n",
    "    train_df.head(15)"
   ]
  },
  {
   "cell_type": "code",
   "execution_count": 21,
   "metadata": {
    "execution": {
     "iopub.execute_input": "2020-11-28T17:04:51.084741Z",
     "iopub.status.busy": "2020-11-28T17:04:51.083785Z",
     "iopub.status.idle": "2020-11-28T17:04:52.840229Z",
     "shell.execute_reply": "2020-11-28T17:04:52.836211Z"
    },
    "papermill": {
     "duration": 1.817243,
     "end_time": "2020-11-28T17:04:52.840439",
     "exception": false,
     "start_time": "2020-11-28T17:04:51.023196",
     "status": "completed"
    },
    "tags": []
   },
   "outputs": [
    {
     "data": {
      "application/vnd.jupyter.widget-view+json": {
       "model_id": "68cdbfbbda33411db44e3399c0124b2d",
       "version_major": 2,
       "version_minor": 0
      },
      "text/plain": [
       "HBox(children=(FloatProgress(value=0.0, max=3824.0), HTML(value='')))"
      ]
     },
     "metadata": {},
     "output_type": "display_data"
    },
    {
     "name": "stdout",
     "output_type": "stream",
     "text": [
      "\n"
     ]
    }
   ],
   "source": [
    "def get_state_user():\n",
    "    # compute user features over all train data\n",
    "    answered_correctly_user = train_df.groupby('user_id')['answered_correctly'].sum().values\n",
    "    answered_user = train_df.groupby('user_id')['answered_correctly'].count().values  \n",
    "    mean_user_accuracy = train_df.groupby('user_id')['answered_correctly'].mean().values\n",
    "    # fill dictionary with default values\n",
    "    state_user = dict()\n",
    "    for user_id in train_df['user_id'].unique():\n",
    "        state_user[user_id] = {}\n",
    "    total = len(state_user.keys())\n",
    "\n",
    "    # add user content attempts\n",
    "    user_content = train_df.groupby('user_id')['content_id'].apply(np.array).apply(np.sort).apply(np.unique)\n",
    "    user_attempts = train_df.groupby(['user_id', 'content_id'])['content_id'].count().groupby('user_id').apply(np.array).values\n",
    "    user_attempts -= 1\n",
    "    \n",
    "    for user_id, content_id, nb_attempts in tqdm(zip(state_user.keys(), user_content, user_attempts),total=total):\n",
    "        state_user[user_id]['user_content_attempts'] = dict(zip(content_id, nb_attempts))\n",
    "        \n",
    "    del user_content, user_attempts\n",
    "    gc.collect()\n",
    "    \n",
    "    for idx, user_id in enumerate(state_user.keys()):\n",
    "        state_user[user_id]['mean_user_accuracy'] = mean_user_accuracy[idx]\n",
    "        state_user[user_id]['answered_correctly_user'] = answered_correctly_user[idx]\n",
    "        state_user[user_id]['answered_user'] = answered_user[idx]\n",
    "    return state_user\n",
    "\n",
    "state_user = get_state_user()\n",
    "\n",
    "if(IS_TEST):\n",
    "    display(state_user[2746])"
   ]
  },
  {
   "cell_type": "code",
   "execution_count": 22,
   "metadata": {
    "execution": {
     "iopub.execute_input": "2020-11-28T17:04:52.949263Z",
     "iopub.status.busy": "2020-11-28T17:04:52.944774Z",
     "iopub.status.idle": "2020-11-28T17:04:52.953312Z",
     "shell.execute_reply": "2020-11-28T17:04:52.952414Z"
    },
    "papermill": {
     "duration": 0.067497,
     "end_time": "2020-11-28T17:04:52.953476",
     "exception": false,
     "start_time": "2020-11-28T17:04:52.885979",
     "status": "completed"
    },
    "tags": []
   },
   "outputs": [],
   "source": [
    "def get_user_data(state, test_df):\n",
    "    # updated data\n",
    "    attempt, mean_user_accuracy, answered_correctly_user, answered_user = [], [], [], []\n",
    "    \n",
    "    for idx, (user_id, content_id) in test_df[['user_id', 'content_id']].iterrows():\n",
    "        # check if user exists\n",
    "        if user_id in state:\n",
    "            # check if user already answered the question, if so update it to a maximum of 4\n",
    "            if content_id in state[user_id]['user_content_attempts']:\n",
    "                state[user_id]['user_content_attempts'][content_id] = min(4, state[user_id]['user_content_attempts'][content_id] + 1)\n",
    "            # if user did not answered the question already, set the number of attempts to 0\n",
    "            else:\n",
    "                state[user_id]['user_content_attempts'][content_id] = 0\n",
    "        \n",
    "        # else create user with default values\n",
    "        else:\n",
    "            dict_keys = ['mean_user_accuracy', 'answered_correctly_user', 'answered_user', 'user_content_attempts']\n",
    "            dict_default_vals = [0.680, 0, 0, dict(zip([content_id],[0]))]\n",
    "            state[user_id] = dict(zip(dict_keys, dict_default_vals))\n",
    "            \n",
    "        # add user data to lists\n",
    "        attempt.append(state[user_id]['user_content_attempts'][content_id])\n",
    "        mean_user_accuracy.append(state[user_id]['mean_user_accuracy'])\n",
    "        answered_correctly_user.append(state[user_id]['answered_correctly_user'])\n",
    "        answered_user.append(state[user_id]['answered_user'])\n",
    "    \n",
    "    return attempt, mean_user_accuracy, answered_correctly_user, answered_user\n",
    "\n",
    "# updates the user data\n",
    "def update_user_data(state, features_questions_df, prev_test_df):\n",
    "    for user_id, content_id, answered_correctly in prev_test_df[['user_id', 'content_id', 'answered_correctly']].values:\n",
    "        # update user features\n",
    "        state[user_id]['answered_correctly_user'] += answered_correctly\n",
    "        state[user_id]['answered_user'] += 1\n",
    "        state[user_id]['mean_user_accuracy'] = state[user_id]['answered_correctly_user'] / state[user_id]['answered_user']"
   ]
  },
  {
   "cell_type": "markdown",
   "metadata": {
    "papermill": {
     "duration": 0.042963,
     "end_time": "2020-11-28T17:04:53.040376",
     "exception": false,
     "start_time": "2020-11-28T17:04:52.997413",
     "status": "completed"
    },
    "tags": []
   },
   "source": [
    "# Baseline"
   ]
  },
  {
   "cell_type": "code",
   "execution_count": 23,
   "metadata": {
    "execution": {
     "iopub.execute_input": "2020-11-28T17:04:53.133165Z",
     "iopub.status.busy": "2020-11-28T17:04:53.132066Z",
     "iopub.status.idle": "2020-11-28T17:04:53.134868Z",
     "shell.execute_reply": "2020-11-28T17:04:53.134219Z"
    },
    "papermill": {
     "duration": 0.051481,
     "end_time": "2020-11-28T17:04:53.135008",
     "exception": false,
     "start_time": "2020-11-28T17:04:53.083527",
     "status": "completed"
    },
    "tags": []
   },
   "outputs": [],
   "source": [
    "#sc = MinMaxScaler()\n",
    "sc = StandardScaler()"
   ]
  },
  {
   "cell_type": "code",
   "execution_count": 24,
   "metadata": {
    "execution": {
     "iopub.execute_input": "2020-11-28T17:04:53.231008Z",
     "iopub.status.busy": "2020-11-28T17:04:53.229752Z",
     "iopub.status.idle": "2020-11-28T17:04:53.234995Z",
     "shell.execute_reply": "2020-11-28T17:04:53.234335Z"
    },
    "papermill": {
     "duration": 0.056277,
     "end_time": "2020-11-28T17:04:53.235137",
     "exception": false,
     "start_time": "2020-11-28T17:04:53.178860",
     "status": "completed"
    },
    "tags": []
   },
   "outputs": [
    {
     "data": {
      "text/plain": [
       "Index(['row_id', 'timestamp', 'user_id', 'content_id', 'task_container_id',\n",
       "       'user_answer', 'answered_correctly', 'prior_question_elapsed_time',\n",
       "       'prior_had_explanation_le', 'is_first_question', 'timestamp_in_hour',\n",
       "       'prior_time_in_hours', 'question_id', 'bundle_id', 'correct_answer',\n",
       "       'part', 'nb_tags', '92', '38', '81', '29', '136', '162', '102', '8',\n",
       "       '143', '131', '73', '21', '53', '82', '74', '106', '1', '96', '12',\n",
       "       '97', '67', '55', '27', '122', '79', 'is_easy_part', 'is_medium_part',\n",
       "       'is_difficult_part', 'is_reading_section', 'user_count', 'user_nb_mean',\n",
       "       'content_count', 'content_nb_mean', 'nb_attempt'],\n",
       "      dtype='object')"
      ]
     },
     "execution_count": 24,
     "metadata": {},
     "output_type": "execute_result"
    }
   ],
   "source": [
    "train_df.columns"
   ]
  },
  {
   "cell_type": "code",
   "execution_count": 25,
   "metadata": {
    "execution": {
     "iopub.execute_input": "2020-11-28T17:04:53.337519Z",
     "iopub.status.busy": "2020-11-28T17:04:53.336613Z",
     "iopub.status.idle": "2020-11-28T17:04:55.215571Z",
     "shell.execute_reply": "2020-11-28T17:04:55.214874Z"
    },
    "papermill": {
     "duration": 1.936197,
     "end_time": "2020-11-28T17:04:55.215729",
     "exception": false,
     "start_time": "2020-11-28T17:04:53.279532",
     "status": "completed"
    },
    "tags": []
   },
   "outputs": [],
   "source": [
    "train_df = train_df[train_df['answered_correctly']!= -1]\n",
    "features_bsl = ['prior_had_explanation_le', 'nb_attempt',\n",
    "                'content_id', 'content_count', 'content_nb_mean',\n",
    "                'user_nb_mean', 'user_count',\n",
    "                'is_reading_section', 'user_id',\n",
    "                'nb_tags',\n",
    "                '92', '38', '81', '29', '136',\n",
    "                '162', '102', '8', '143', '131'\n",
    "                ]\n",
    "\n",
    "if(IS_TIMESTAMPS_IN_MONTH):\n",
    "    features_bsl.append('timestamp_in_month')\n",
    "if(IS_TIMESTAMPS_IN_DAY):\n",
    "    features_bsl.append('timestamp_in_day')\n",
    "if(IS_TIMESTAMPS_IN_HOUR):\n",
    "    features_bsl.append('timestamp_in_hour')\n",
    "if(IS_PRIOR_TIME_IN_HOUR):\n",
    "    features_bsl.append('prior_time_in_hours')\n",
    "if(IS_FIRST_QUESTION):\n",
    "    features_bsl.append('is_first_question')\n",
    "\n",
    "X = train_df[features_bsl]\n",
    "X = sc.fit_transform(X)\n",
    "y = train_df['answered_correctly']\n",
    "\n",
    "X_train, X_test, y_train, y_test = train_test_split(X, y, test_size=0.20, shuffle=True, random_state=1)"
   ]
  },
  {
   "cell_type": "code",
   "execution_count": 26,
   "metadata": {
    "execution": {
     "iopub.execute_input": "2020-11-28T17:04:55.312663Z",
     "iopub.status.busy": "2020-11-28T17:04:55.311388Z",
     "iopub.status.idle": "2020-11-28T17:04:55.316100Z",
     "shell.execute_reply": "2020-11-28T17:04:55.315395Z"
    },
    "papermill": {
     "duration": 0.055682,
     "end_time": "2020-11-28T17:04:55.316241",
     "exception": false,
     "start_time": "2020-11-28T17:04:55.260559",
     "status": "completed"
    },
    "tags": []
   },
   "outputs": [
    {
     "data": {
      "text/plain": [
       "['prior_had_explanation_le',\n",
       " 'nb_attempt',\n",
       " 'content_id',\n",
       " 'content_count',\n",
       " 'content_nb_mean',\n",
       " 'user_nb_mean',\n",
       " 'user_count',\n",
       " 'is_reading_section',\n",
       " 'user_id',\n",
       " 'nb_tags',\n",
       " '92',\n",
       " '38',\n",
       " '81',\n",
       " '29',\n",
       " '136',\n",
       " '162',\n",
       " '102',\n",
       " '8',\n",
       " '143',\n",
       " '131',\n",
       " 'timestamp_in_hour',\n",
       " 'prior_time_in_hours',\n",
       " 'is_first_question']"
      ]
     },
     "execution_count": 26,
     "metadata": {},
     "output_type": "execute_result"
    }
   ],
   "source": [
    "features_bsl"
   ]
  },
  {
   "cell_type": "markdown",
   "metadata": {
    "papermill": {
     "duration": 0.052923,
     "end_time": "2020-11-28T17:04:55.418842",
     "exception": false,
     "start_time": "2020-11-28T17:04:55.365919",
     "status": "completed"
    },
    "tags": []
   },
   "source": [
    "## Optimisation of the model (Hyperparameter tuning and crossvalidation)"
   ]
  },
  {
   "cell_type": "markdown",
   "metadata": {
    "papermill": {
     "duration": 0.045377,
     "end_time": "2020-11-28T17:04:55.510946",
     "exception": false,
     "start_time": "2020-11-28T17:04:55.465569",
     "status": "completed"
    },
    "tags": []
   },
   "source": [
    "### To optimize my model, I use : Bayesian Optimization (hyperopt) and stratification."
   ]
  },
  {
   "cell_type": "code",
   "execution_count": 27,
   "metadata": {
    "execution": {
     "iopub.execute_input": "2020-11-28T17:04:55.628706Z",
     "iopub.status.busy": "2020-11-28T17:04:55.623324Z",
     "iopub.status.idle": "2020-11-28T17:04:55.636378Z",
     "shell.execute_reply": "2020-11-28T17:04:55.635692Z"
    },
    "papermill": {
     "duration": 0.079444,
     "end_time": "2020-11-28T17:04:55.636561",
     "exception": false,
     "start_time": "2020-11-28T17:04:55.557117",
     "status": "completed"
    },
    "tags": []
   },
   "outputs": [],
   "source": [
    "param_hyperopt= {\n",
    "    'learning_rate': hp.loguniform('learning_rate', np.log(0.01), np.log(1)),\n",
    "    'max_depth': scope.int(hp.quniform('max_depth', 5, 15, 1)),\n",
    "    'feature_fraction': hp.uniform('feature_fraction', 0.6, 0.9),\n",
    "    'n_estimators': scope.int(hp.quniform('n_estimators', 25, 300, 25)),\n",
    "    'num_leaves': scope.int(hp.quniform('num_leaves', 5, 50, 1)),\n",
    "    'reg_lambda': hp.uniform('reg_lambda', 0.0, 0.2),\n",
    "}\n",
    "\n",
    "\n",
    "def hyperopt(param_space, X_train, y_train, X_test, y_test, num_eval):\n",
    "    num_folds=3\n",
    "\n",
    "    def objective_function(params):\n",
    "        clf = lgb.LGBMClassifier(random_state =1, **params)\n",
    "        kf = KFold(n_splits=num_folds, shuffle=True)\n",
    "        score = cross_val_score(clf, X_train, y_train, cv=kf, scoring='roc_auc', n_jobs=1).mean()\n",
    "        return {'loss': 1-score, 'status': STATUS_OK}\n",
    "    \n",
    "    trials = Trials()\n",
    "    \n",
    "    best_param = fmin(objective_function, \n",
    "                      param_space, \n",
    "                      algo=tpe.suggest, \n",
    "                      max_evals=num_eval, \n",
    "                      trials=trials,\n",
    "                      rstate= np.random.RandomState(1))\n",
    "    loss = [x['result']['loss'] for x in trials.trials]\n",
    "    \n",
    "    best_param_values = [x for x in best_param.values()]\n",
    "    \n",
    "    if best_param_values[0] == 0:\n",
    "        boosting_type = 'gbdt'\n",
    "    else:\n",
    "        boosting_type= 'dart'\n",
    "   \n",
    "    clf_best = lgb.LGBMClassifier(random_state = 1,\n",
    "                                  feature_fraction=best_param_values[0],\n",
    "                                  learning_rate=best_param_values[1],\n",
    "                                  max_depth=int(best_param_values[2]),\n",
    "                                  n_estimators=int(best_param_values[3]),\n",
    "                                  num_leaves=int(best_param_values[4]),\n",
    "                                  reg_lambda=best_param_values[5]\n",
    "                                 )\n",
    "    \n",
    "    clf_best.fit(X_train, y_train)\n",
    "    \n",
    "    print(\"\")\n",
    "    print(\"##### Results\")\n",
    "    print(\"Score best parameters: \", min(loss)*-1)\n",
    "    print(\"Best parameters: \", best_param)\n",
    "    print(\"Test Score: \", clf_best.score(X_test, y_test))\n",
    "    print(\"AUROC : \",roc_auc_score(y_test, clf_best.predict_proba(X_test)[:,1]) )\n",
    "    print(\"Parameter combinations evaluated: \", num_eval)\n",
    "    return trials\n",
    "\n",
    "IS_EVAL = False\n",
    "if(IS_EVAL):\n",
    "    num_eval = 75\n",
    "    results_hyperopt = hyperopt(param_hyperopt, X_train, y_train, X_test, y_test, num_eval)\n"
   ]
  },
  {
   "cell_type": "markdown",
   "metadata": {
    "papermill": {
     "duration": 0.044637,
     "end_time": "2020-11-28T17:04:55.727317",
     "exception": false,
     "start_time": "2020-11-28T17:04:55.682680",
     "status": "completed"
    },
    "tags": []
   },
   "source": [
    "75/75 [29:45<00:00, 23.81s/trial, best loss: 0.24545802722089016]\n",
    "\n",
    "##### Results\n",
    "Score best parameters:  -0.24545802722089016\n",
    "Best parameters:  {'feature_fraction': 0.7847766875579623, 'learning_rate': 0.20475753529956947, 'max_depth': 8.0, 'n_estimators': 300.0, 'num_leaves': 25.0, 'reg_lambda': 0.08560393035568381}\n",
    "Test Score:  0.7178898261301032\n",
    "AUROC :  0.7537312406572992\n",
    "Parameter combinations evaluated:  75"
   ]
  },
  {
   "cell_type": "code",
   "execution_count": 28,
   "metadata": {
    "execution": {
     "iopub.execute_input": "2020-11-28T17:04:55.831459Z",
     "iopub.status.busy": "2020-11-28T17:04:55.830104Z",
     "iopub.status.idle": "2020-11-28T17:04:55.834021Z",
     "shell.execute_reply": "2020-11-28T17:04:55.833365Z"
    },
    "papermill": {
     "duration": 0.060464,
     "end_time": "2020-11-28T17:04:55.834176",
     "exception": false,
     "start_time": "2020-11-28T17:04:55.773712",
     "status": "completed"
    },
    "tags": []
   },
   "outputs": [],
   "source": [
    "'''params = {\n",
    "    #'bagging_fraction': 0.5817242323514327,\n",
    "    'feature_fraction': 0.6884588361650144,\n",
    "    #'learning_rate': 0.42887924851375825, \n",
    "    'learning_rate': 0.4, \n",
    "    'max_depth': 7,\n",
    "    'min_child_samples': 100, \n",
    "    'min_child_weight': 0.01,\n",
    "    'min_data_in_leaf': 20, \n",
    "    'n_estimators': 200,\n",
    "    'n_job': 4,\n",
    "    'num_leaves': 42,\n",
    "    'random_state': 1,\n",
    "    'reg_alpha': 5, \n",
    "    'reg_lambda': 0,\n",
    "    'subsample': 0.863184719640143\n",
    "}'''\n",
    "\n",
    "params = {\n",
    "    'bagging_fraction': 0.6,\n",
    "    'feature_fraction': 0.7847766875579623, \n",
    "    'learning_rate': 0.45, #0.20475753529956947, \n",
    "    'max_depth': 8, \n",
    "    'n_estimators': 300,\n",
    "    'num_leaves': 25,\n",
    "    'reg_lambda': 0,\n",
    "    'reg_alpha': 5,\n",
    "    'random_state': 1,\n",
    "    'n_job': 4,\n",
    "    'min_child_samples': 100, \n",
    "    'min_child_weight': 0.01,\n",
    "    'min_data_in_leaf': 15,\n",
    "    'subsample': 0.75\n",
    "}\n",
    "\n",
    "lgbm = LGBMClassifier(**params)"
   ]
  },
  {
   "cell_type": "code",
   "execution_count": 29,
   "metadata": {
    "execution": {
     "iopub.execute_input": "2020-11-28T17:04:56.006945Z",
     "iopub.status.busy": "2020-11-28T17:04:56.006040Z",
     "iopub.status.idle": "2020-11-28T17:05:13.621280Z",
     "shell.execute_reply": "2020-11-28T17:05:13.622188Z"
    },
    "papermill": {
     "duration": 17.742624,
     "end_time": "2020-11-28T17:05:13.622419",
     "exception": false,
     "start_time": "2020-11-28T17:04:55.879795",
     "status": "completed"
    },
    "tags": []
   },
   "outputs": [
    {
     "data": {
      "text/plain": [
       "LGBMClassifier(bagging_fraction=0.6, feature_fraction=0.7847766875579623,\n",
       "               learning_rate=0.45, max_depth=8, min_child_samples=100,\n",
       "               min_child_weight=0.01, min_data_in_leaf=15, n_estimators=300,\n",
       "               n_job=4, num_leaves=25, random_state=1, reg_alpha=5,\n",
       "               reg_lambda=0, subsample=0.75)"
      ]
     },
     "execution_count": 29,
     "metadata": {},
     "output_type": "execute_result"
    }
   ],
   "source": [
    "lgbm.fit(train_df[features_bsl], y)"
   ]
  },
  {
   "cell_type": "code",
   "execution_count": 30,
   "metadata": {
    "execution": {
     "iopub.execute_input": "2020-11-28T17:05:13.744836Z",
     "iopub.status.busy": "2020-11-28T17:05:13.743755Z",
     "iopub.status.idle": "2020-11-28T17:05:19.509963Z",
     "shell.execute_reply": "2020-11-28T17:05:19.509093Z"
    },
    "papermill": {
     "duration": 5.830211,
     "end_time": "2020-11-28T17:05:19.510126",
     "exception": false,
     "start_time": "2020-11-28T17:05:13.679915",
     "status": "completed"
    },
    "tags": []
   },
   "outputs": [
    {
     "name": "stdout",
     "output_type": "stream",
     "text": [
      "0.7854608254629457\n"
     ]
    }
   ],
   "source": [
    "print(roc_auc_score(y.values, lgbm.predict_proba(train_df[features_bsl])[:,1]))"
   ]
  },
  {
   "cell_type": "code",
   "execution_count": 31,
   "metadata": {
    "execution": {
     "iopub.execute_input": "2020-11-28T17:05:19.616346Z",
     "iopub.status.busy": "2020-11-28T17:05:19.615478Z",
     "iopub.status.idle": "2020-11-28T17:05:19.618887Z",
     "shell.execute_reply": "2020-11-28T17:05:19.618053Z"
    },
    "papermill": {
     "duration": 0.060141,
     "end_time": "2020-11-28T17:05:19.619032",
     "exception": false,
     "start_time": "2020-11-28T17:05:19.558891",
     "status": "completed"
    },
    "tags": []
   },
   "outputs": [],
   "source": [
    "if(IS_EVAL):\n",
    "    train_df.fillna(train_df.median(), inplace=True)\n",
    "    perm = PermutationImportance(lgbm, random_state=1).fit(train_df[features_bsl], y)\n",
    "    eli5.show_weights(perm, feature_names = features_bsl)"
   ]
  },
  {
   "cell_type": "code",
   "execution_count": 32,
   "metadata": {
    "execution": {
     "iopub.execute_input": "2020-11-28T17:05:19.721484Z",
     "iopub.status.busy": "2020-11-28T17:05:19.720242Z",
     "iopub.status.idle": "2020-11-28T17:05:19.723265Z",
     "shell.execute_reply": "2020-11-28T17:05:19.722518Z"
    },
    "papermill": {
     "duration": 0.056335,
     "end_time": "2020-11-28T17:05:19.723405",
     "exception": false,
     "start_time": "2020-11-28T17:05:19.667070",
     "status": "completed"
    },
    "tags": []
   },
   "outputs": [],
   "source": [
    "#displaying the most important features\n",
    "if(IS_TEST):\n",
    "    lgb.plot_importance(lgbm)\n",
    "    plt.show()"
   ]
  },
  {
   "cell_type": "code",
   "execution_count": 33,
   "metadata": {
    "execution": {
     "iopub.execute_input": "2020-11-28T17:05:19.826826Z",
     "iopub.status.busy": "2020-11-28T17:05:19.825589Z",
     "iopub.status.idle": "2020-11-28T17:05:19.829620Z",
     "shell.execute_reply": "2020-11-28T17:05:19.828933Z"
    },
    "papermill": {
     "duration": 0.058801,
     "end_time": "2020-11-28T17:05:19.829783",
     "exception": false,
     "start_time": "2020-11-28T17:05:19.770982",
     "status": "completed"
    },
    "tags": []
   },
   "outputs": [],
   "source": [
    "# You can only call make_env() once, so don't lose it!\n",
    "env = riiideducation.make_env()"
   ]
  },
  {
   "cell_type": "code",
   "execution_count": 34,
   "metadata": {
    "execution": {
     "iopub.execute_input": "2020-11-28T17:05:19.947391Z",
     "iopub.status.busy": "2020-11-28T17:05:19.946576Z",
     "iopub.status.idle": "2020-11-28T17:05:19.959007Z",
     "shell.execute_reply": "2020-11-28T17:05:19.958011Z"
    },
    "papermill": {
     "duration": 0.081024,
     "end_time": "2020-11-28T17:05:19.959350",
     "exception": false,
     "start_time": "2020-11-28T17:05:19.878326",
     "status": "completed"
    },
    "tags": []
   },
   "outputs": [],
   "source": [
    "user_sum_dict = user_agg['sum'].astype('int16').to_dict(defaultdict(int))\n",
    "user_count_dict = user_agg['count'].astype('int16').to_dict(defaultdict(int))\n",
    "content_sum_dict = content_agg['sum'].astype('int32').to_dict(defaultdict(int))\n",
    "content_count_dict = content_agg['count'].astype('int32').to_dict(defaultdict(int))"
   ]
  },
  {
   "cell_type": "code",
   "execution_count": 35,
   "metadata": {
    "execution": {
     "iopub.execute_input": "2020-11-28T17:05:20.079154Z",
     "iopub.status.busy": "2020-11-28T17:05:20.073825Z",
     "iopub.status.idle": "2020-11-28T17:05:20.612869Z",
     "shell.execute_reply": "2020-11-28T17:05:20.612087Z"
    },
    "papermill": {
     "duration": 0.602967,
     "end_time": "2020-11-28T17:05:20.613042",
     "exception": false,
     "start_time": "2020-11-28T17:05:20.010075",
     "status": "completed"
    },
    "tags": []
   },
   "outputs": [],
   "source": [
    "prev_test_df = None\n",
    "\n",
    "iter_test = env.iter_test()\n",
    "\n",
    "for (test_df, sample_prediction_df) in iter_test:\n",
    "    if prev_test_df is not None:\n",
    "        prev_test_df['answered_correctly_01']\n",
    "        \n",
    "        for user_id, content_id, answered_correctly in prev_test_df[['user_id', 'content_id', 'answered_correctly_01']].values:\n",
    "            state_user[user_id]['answered_correctly_user'] += answered_correctly\n",
    "            state_user[user_id]['answered_user'] += 1\n",
    "            state_user[user_id]['mean_user_accuracy'] = state_user[user_id]['answered_correctly_user'] / state_user[user_id]['answered_user']\n",
    "        \n",
    "    test_df = preprocessing_data(test_df)\n",
    "    \n",
    "    test_df = pd.merge(test_df,questions_df, how='left', left_on='content_id', right_on='question_id').sort_values('row_id')\n",
    "    test_df = test_df.sort_values(['user_id','timestamp'], ascending=False)\n",
    "\n",
    "    user_sum = np.zeros(len(test_df), dtype=np.int16)\n",
    "    user_count = np.zeros(len(test_df), dtype=np.int16)\n",
    "    user_mean = np.zeros(len(test_df), dtype=np.int16)\n",
    "    content_sum = np.zeros(len(test_df), dtype=np.int32)\n",
    "    content_count = np.zeros(len(test_df), dtype=np.int32)\n",
    "    content_mean = np.zeros(len(test_df), dtype=np.int16)\n",
    "    user_content_attempts = np.zeros(len(test_df), dtype=np.int8)\n",
    "    for i, (user_id, content_id) in enumerate(zip(test_df['user_id'].values, test_df['content_id'].values)):\n",
    "        \n",
    "        if user_id not in state_user:\n",
    "            dict_keys = ['mean_user_accuracy', 'answered_correctly_user', 'answered_user', 'user_content_attempts']\n",
    "            dict_default_vals = [0.680, 0, 0, dict(zip([content_id],[0]))]\n",
    "            state_user[user_id] = dict(zip(dict_keys, dict_default_vals))\n",
    "            \n",
    "        if content_id not in state_user[user_id]['user_content_attempts']:\n",
    "            state_user[user_id]['user_content_attempts'][content_id] = 1\n",
    "        else:\n",
    "            state_user[user_id]['user_content_attempts'][content_id] = state_user[user_id]['user_content_attempts'][content_id] + 1\n",
    "        \n",
    "        user_content_attempts[i]= state_user[user_id]['user_content_attempts'][content_id]\n",
    "        \n",
    "        user_sum[i] = user_sum_dict[user_id]\n",
    "        user_count[i] = user_count_dict[user_id]\n",
    "        user_mean[i] = state_user[user_id]['mean_user_accuracy']\n",
    "        \n",
    "        content_sum[i] = content_sum_dict[content_id]\n",
    "        content_count[i] = content_count_dict[content_id]\n",
    "        if(content_count[i] > 0 ) :\n",
    "            content_mean[i] = content_sum[i] / content_count[i]\n",
    "        else :\n",
    "            content_mean[i] = 0.65\n",
    "    test_df['nb_attempt'] = user_content_attempts\n",
    "    \n",
    "    test_df['user_count'] = user_count\n",
    "    test_df['user_sum'] = user_sum\n",
    "    test_df['user_nb_mean'] = user_mean\n",
    "    \n",
    "    test_df['content_count'] = content_count\n",
    "    test_df['content_nb_mean'] = content_sum/content_count\n",
    "    test_df['answered_correctly_01'] =  lgbm.predict(test_df[features_bsl])\n",
    "    test_df['answered_correctly'] =  lgbm.predict_proba(test_df[features_bsl])[:,1]\n",
    "    env.predict(test_df[['row_id', 'answered_correctly']])\n",
    "    prev_test_df = test_df.copy()"
   ]
  },
  {
   "cell_type": "code",
   "execution_count": 36,
   "metadata": {
    "execution": {
     "iopub.execute_input": "2020-11-28T17:05:20.721264Z",
     "iopub.status.busy": "2020-11-28T17:05:20.720219Z",
     "iopub.status.idle": "2020-11-28T17:05:20.723987Z",
     "shell.execute_reply": "2020-11-28T17:05:20.723359Z"
    },
    "papermill": {
     "duration": 0.063293,
     "end_time": "2020-11-28T17:05:20.724132",
     "exception": false,
     "start_time": "2020-11-28T17:05:20.660839",
     "status": "completed"
    },
    "tags": []
   },
   "outputs": [],
   "source": [
    "submission = pd.read_csv('./submission.csv')"
   ]
  },
  {
   "cell_type": "code",
   "execution_count": 37,
   "metadata": {
    "execution": {
     "iopub.execute_input": "2020-11-28T17:05:20.835989Z",
     "iopub.status.busy": "2020-11-28T17:05:20.835007Z",
     "iopub.status.idle": "2020-11-28T17:05:20.840280Z",
     "shell.execute_reply": "2020-11-28T17:05:20.839343Z"
    },
    "papermill": {
     "duration": 0.068495,
     "end_time": "2020-11-28T17:05:20.840535",
     "exception": false,
     "start_time": "2020-11-28T17:05:20.772040",
     "status": "completed"
    },
    "tags": []
   },
   "outputs": [
    {
     "name": "stdout",
     "output_type": "stream",
     "text": [
      "<class 'pandas.core.frame.DataFrame'>\n",
      "RangeIndex: 104 entries, 0 to 103\n",
      "Data columns (total 2 columns):\n",
      " #   Column              Non-Null Count  Dtype  \n",
      "---  ------              --------------  -----  \n",
      " 0   row_id              104 non-null    int64  \n",
      " 1   answered_correctly  104 non-null    float64\n",
      "dtypes: float64(1), int64(1)\n",
      "memory usage: 1.8 KB\n"
     ]
    }
   ],
   "source": [
    "submission.info()"
   ]
  },
  {
   "cell_type": "code",
   "execution_count": 38,
   "metadata": {
    "execution": {
     "iopub.execute_input": "2020-11-28T17:05:20.951473Z",
     "iopub.status.busy": "2020-11-28T17:05:20.950538Z",
     "iopub.status.idle": "2020-11-28T17:05:20.959894Z",
     "shell.execute_reply": "2020-11-28T17:05:20.959108Z"
    },
    "papermill": {
     "duration": 0.07018,
     "end_time": "2020-11-28T17:05:20.960033",
     "exception": false,
     "start_time": "2020-11-28T17:05:20.889853",
     "status": "completed"
    },
    "tags": []
   },
   "outputs": [
    {
     "data": {
      "text/html": [
       "<div>\n",
       "<style scoped>\n",
       "    .dataframe tbody tr th:only-of-type {\n",
       "        vertical-align: middle;\n",
       "    }\n",
       "\n",
       "    .dataframe tbody tr th {\n",
       "        vertical-align: top;\n",
       "    }\n",
       "\n",
       "    .dataframe thead th {\n",
       "        text-align: right;\n",
       "    }\n",
       "</style>\n",
       "<table border=\"1\" class=\"dataframe\">\n",
       "  <thead>\n",
       "    <tr style=\"text-align: right;\">\n",
       "      <th></th>\n",
       "      <th>row_id</th>\n",
       "      <th>answered_correctly</th>\n",
       "    </tr>\n",
       "  </thead>\n",
       "  <tbody>\n",
       "    <tr>\n",
       "      <th>0</th>\n",
       "      <td>17</td>\n",
       "      <td>0.704027</td>\n",
       "    </tr>\n",
       "    <tr>\n",
       "      <th>1</th>\n",
       "      <td>4</td>\n",
       "      <td>0.277226</td>\n",
       "    </tr>\n",
       "    <tr>\n",
       "      <th>2</th>\n",
       "      <td>2</td>\n",
       "      <td>0.601066</td>\n",
       "    </tr>\n",
       "    <tr>\n",
       "      <th>3</th>\n",
       "      <td>8</td>\n",
       "      <td>0.353694</td>\n",
       "    </tr>\n",
       "    <tr>\n",
       "      <th>4</th>\n",
       "      <td>6</td>\n",
       "      <td>0.534968</td>\n",
       "    </tr>\n",
       "  </tbody>\n",
       "</table>\n",
       "</div>"
      ],
      "text/plain": [
       "   row_id  answered_correctly\n",
       "0      17            0.704027\n",
       "1       4            0.277226\n",
       "2       2            0.601066\n",
       "3       8            0.353694\n",
       "4       6            0.534968"
      ]
     },
     "execution_count": 38,
     "metadata": {},
     "output_type": "execute_result"
    }
   ],
   "source": [
    "submission.head()"
   ]
  }
 ],
 "metadata": {
  "kernelspec": {
   "display_name": "Python 3",
   "language": "python",
   "name": "python3"
  },
  "language_info": {
   "codemirror_mode": {
    "name": "ipython",
    "version": 3
   },
   "file_extension": ".py",
   "mimetype": "text/x-python",
   "name": "python",
   "nbconvert_exporter": "python",
   "pygments_lexer": "ipython3",
   "version": "3.7.6"
  },
  "papermill": {
   "duration": 56.612358,
   "end_time": "2020-11-28T17:05:21.121551",
   "environment_variables": {},
   "exception": null,
   "input_path": "__notebook__.ipynb",
   "output_path": "__notebook__.ipynb",
   "parameters": {},
   "start_time": "2020-11-28T17:04:24.509193",
   "version": "2.1.0"
  },
  "widgets": {
   "application/vnd.jupyter.widget-state+json": {
    "state": {
     "193af7cb9fa042b5b466051d67d34ddc": {
      "model_module": "@jupyter-widgets/base",
      "model_module_version": "1.2.0",
      "model_name": "LayoutModel",
      "state": {
       "_model_module": "@jupyter-widgets/base",
       "_model_module_version": "1.2.0",
       "_model_name": "LayoutModel",
       "_view_count": null,
       "_view_module": "@jupyter-widgets/base",
       "_view_module_version": "1.2.0",
       "_view_name": "LayoutView",
       "align_content": null,
       "align_items": null,
       "align_self": null,
       "border": null,
       "bottom": null,
       "display": null,
       "flex": null,
       "flex_flow": null,
       "grid_area": null,
       "grid_auto_columns": null,
       "grid_auto_flow": null,
       "grid_auto_rows": null,
       "grid_column": null,
       "grid_gap": null,
       "grid_row": null,
       "grid_template_areas": null,
       "grid_template_columns": null,
       "grid_template_rows": null,
       "height": null,
       "justify_content": null,
       "justify_items": null,
       "left": null,
       "margin": null,
       "max_height": null,
       "max_width": null,
       "min_height": null,
       "min_width": null,
       "object_fit": null,
       "object_position": null,
       "order": null,
       "overflow": null,
       "overflow_x": null,
       "overflow_y": null,
       "padding": null,
       "right": null,
       "top": null,
       "visibility": null,
       "width": null
      }
     },
     "255fc420429d42e19fa493d119747336": {
      "model_module": "@jupyter-widgets/controls",
      "model_module_version": "1.5.0",
      "model_name": "ProgressStyleModel",
      "state": {
       "_model_module": "@jupyter-widgets/controls",
       "_model_module_version": "1.5.0",
       "_model_name": "ProgressStyleModel",
       "_view_count": null,
       "_view_module": "@jupyter-widgets/base",
       "_view_module_version": "1.2.0",
       "_view_name": "StyleView",
       "bar_color": null,
       "description_width": "initial"
      }
     },
     "68cdbfbbda33411db44e3399c0124b2d": {
      "model_module": "@jupyter-widgets/controls",
      "model_module_version": "1.5.0",
      "model_name": "HBoxModel",
      "state": {
       "_dom_classes": [],
       "_model_module": "@jupyter-widgets/controls",
       "_model_module_version": "1.5.0",
       "_model_name": "HBoxModel",
       "_view_count": null,
       "_view_module": "@jupyter-widgets/controls",
       "_view_module_version": "1.5.0",
       "_view_name": "HBoxView",
       "box_style": "",
       "children": [
        "IPY_MODEL_81739cf8c59b466da44c0d82137f6efb",
        "IPY_MODEL_9c59b8f8f93e4efda1f360946f136170"
       ],
       "layout": "IPY_MODEL_f35a092b679f45018c6790783ff43260"
      }
     },
     "81739cf8c59b466da44c0d82137f6efb": {
      "model_module": "@jupyter-widgets/controls",
      "model_module_version": "1.5.0",
      "model_name": "FloatProgressModel",
      "state": {
       "_dom_classes": [],
       "_model_module": "@jupyter-widgets/controls",
       "_model_module_version": "1.5.0",
       "_model_name": "FloatProgressModel",
       "_view_count": null,
       "_view_module": "@jupyter-widgets/controls",
       "_view_module_version": "1.5.0",
       "_view_name": "ProgressView",
       "bar_style": "success",
       "description": "100%",
       "description_tooltip": null,
       "layout": "IPY_MODEL_193af7cb9fa042b5b466051d67d34ddc",
       "max": 3824.0,
       "min": 0.0,
       "orientation": "horizontal",
       "style": "IPY_MODEL_255fc420429d42e19fa493d119747336",
       "value": 3824.0
      }
     },
     "9c59b8f8f93e4efda1f360946f136170": {
      "model_module": "@jupyter-widgets/controls",
      "model_module_version": "1.5.0",
      "model_name": "HTMLModel",
      "state": {
       "_dom_classes": [],
       "_model_module": "@jupyter-widgets/controls",
       "_model_module_version": "1.5.0",
       "_model_name": "HTMLModel",
       "_view_count": null,
       "_view_module": "@jupyter-widgets/controls",
       "_view_module_version": "1.5.0",
       "_view_name": "HTMLView",
       "description": "",
       "description_tooltip": null,
       "layout": "IPY_MODEL_a21c8263da33416694a06c2c01c5169c",
       "placeholder": "​",
       "style": "IPY_MODEL_b7440ac0675a46fd9b89fe4ba7fbe596",
       "value": " 3824/3824 [00:00&lt;00:00, 6400.67it/s]"
      }
     },
     "a21c8263da33416694a06c2c01c5169c": {
      "model_module": "@jupyter-widgets/base",
      "model_module_version": "1.2.0",
      "model_name": "LayoutModel",
      "state": {
       "_model_module": "@jupyter-widgets/base",
       "_model_module_version": "1.2.0",
       "_model_name": "LayoutModel",
       "_view_count": null,
       "_view_module": "@jupyter-widgets/base",
       "_view_module_version": "1.2.0",
       "_view_name": "LayoutView",
       "align_content": null,
       "align_items": null,
       "align_self": null,
       "border": null,
       "bottom": null,
       "display": null,
       "flex": null,
       "flex_flow": null,
       "grid_area": null,
       "grid_auto_columns": null,
       "grid_auto_flow": null,
       "grid_auto_rows": null,
       "grid_column": null,
       "grid_gap": null,
       "grid_row": null,
       "grid_template_areas": null,
       "grid_template_columns": null,
       "grid_template_rows": null,
       "height": null,
       "justify_content": null,
       "justify_items": null,
       "left": null,
       "margin": null,
       "max_height": null,
       "max_width": null,
       "min_height": null,
       "min_width": null,
       "object_fit": null,
       "object_position": null,
       "order": null,
       "overflow": null,
       "overflow_x": null,
       "overflow_y": null,
       "padding": null,
       "right": null,
       "top": null,
       "visibility": null,
       "width": null
      }
     },
     "b7440ac0675a46fd9b89fe4ba7fbe596": {
      "model_module": "@jupyter-widgets/controls",
      "model_module_version": "1.5.0",
      "model_name": "DescriptionStyleModel",
      "state": {
       "_model_module": "@jupyter-widgets/controls",
       "_model_module_version": "1.5.0",
       "_model_name": "DescriptionStyleModel",
       "_view_count": null,
       "_view_module": "@jupyter-widgets/base",
       "_view_module_version": "1.2.0",
       "_view_name": "StyleView",
       "description_width": ""
      }
     },
     "f35a092b679f45018c6790783ff43260": {
      "model_module": "@jupyter-widgets/base",
      "model_module_version": "1.2.0",
      "model_name": "LayoutModel",
      "state": {
       "_model_module": "@jupyter-widgets/base",
       "_model_module_version": "1.2.0",
       "_model_name": "LayoutModel",
       "_view_count": null,
       "_view_module": "@jupyter-widgets/base",
       "_view_module_version": "1.2.0",
       "_view_name": "LayoutView",
       "align_content": null,
       "align_items": null,
       "align_self": null,
       "border": null,
       "bottom": null,
       "display": null,
       "flex": null,
       "flex_flow": null,
       "grid_area": null,
       "grid_auto_columns": null,
       "grid_auto_flow": null,
       "grid_auto_rows": null,
       "grid_column": null,
       "grid_gap": null,
       "grid_row": null,
       "grid_template_areas": null,
       "grid_template_columns": null,
       "grid_template_rows": null,
       "height": null,
       "justify_content": null,
       "justify_items": null,
       "left": null,
       "margin": null,
       "max_height": null,
       "max_width": null,
       "min_height": null,
       "min_width": null,
       "object_fit": null,
       "object_position": null,
       "order": null,
       "overflow": null,
       "overflow_x": null,
       "overflow_y": null,
       "padding": null,
       "right": null,
       "top": null,
       "visibility": null,
       "width": null
      }
     }
    },
    "version_major": 2,
    "version_minor": 0
   }
  }
 },
 "nbformat": 4,
 "nbformat_minor": 4
}
